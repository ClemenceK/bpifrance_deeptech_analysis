{
 "cells": [
  {
   "cell_type": "code",
   "execution_count": 4,
   "metadata": {
    "ExecuteTime": {
     "end_time": "2020-12-18T08:51:24.738975Z",
     "start_time": "2020-12-18T08:45:38.190038Z"
    }
   },
   "outputs": [
    {
     "data": {
      "text/plain": [
       "{'deeptech': 0.7845781445503235, 'not deeptech': 0.3103145956993103}"
      ]
     },
     "execution_count": 4,
     "metadata": {},
     "output_type": "execute_result"
    }
   ],
   "source": [
    "import requests\n",
    "url = \"https://text-deeptech-2w2uaoep4a-ew.a.run.app/pred\" \n",
    "params = {\"company_descriptions\":\n",
    "    {\"deeptech\": \"this is a very advanced company active in biotechnology with patented technologies like CRISPR\",\n",
    "     \"not deeptech\":\"this is a platform enabling exchanges of used goods in circular economy fashion\"}}\n",
    "response = requests.post(url, json=params) \n",
    "response.json()"
   ]
  },
  {
   "cell_type": "code",
   "execution_count": null,
   "metadata": {},
   "outputs": [],
   "source": []
  },
  {
   "cell_type": "code",
   "execution_count": 6,
   "metadata": {
    "ExecuteTime": {
     "end_time": "2020-12-18T08:57:52.116284Z",
     "start_time": "2020-12-18T08:57:49.513990Z"
    }
   },
   "outputs": [
    {
     "data": {
      "text/plain": [
       "{'Verkor': 0.6084324717521667,\n",
       " 'Angell': 0.34053006768226624,\n",
       " 'carbios': 0.731168270111084,\n",
       " 'pasqal': 0.894811749458313,\n",
       " 'mastergrid': 0.07237695157527924,\n",
       " 'gourmey': 0.581565797328949,\n",
       " 'Epigene Labs': 0.8394411206245422,\n",
       " 'SpaceSense': 0.7248484492301941,\n",
       " 'Kraaft': 0.5150851011276245}"
      ]
     },
     "execution_count": 6,
     "metadata": {},
     "output_type": "execute_result"
    }
   ],
   "source": [
    "import requests\n",
    "url = \"https://text-deeptech-2w2uaoep4a-ew.a.run.app/pred\" \n",
    "params = {\"company_descriptions\":\n",
    "    {\"Verkor\": \"Verkor is a French industrial company set to amplify battery cell production in Europe, with the support of EIT InnoEnergy, Schneider Electric and the IDEC Group\",\n",
    "    \"Angell\": \"Designed and produced a smart bike for better mobility experience\",\n",
    "    \"carbios\": \"Creates a new generation of fully biodegradable plastics with a controlled lifespan, a process enabling infinite biorecycling of plastic waste\",\n",
    "    \"pasqal\": \"Building Programmable Quantum Simulators and Quantum Computers made of 2D and 3D Atomic Arrays\",\n",
    "    \"mastergrid\":np.nan,\n",
    "    \"gourmey\":\"First cultivated meat company in France with a mission to accelerate the world’s transition toward humane, sustainable and healthy meat by harvesting it from animal cells\",\n",
    "    \"Epigene Labs\": \"Genomic data-driven drug design for precision oncology\",\n",
    "    \"SpaceSense\": \"Helps farming companies to leverage satellite data using artificial intelligence\",\n",
    "    \"Kraaft\":\"Reinventing interface in factories through voice recognition and natural language processing (NLP)\"}}\n",
    "response = requests.post(url, json=params) \n",
    "response.json()"
   ]
  },
  {
   "cell_type": "code",
   "execution_count": null,
   "metadata": {},
   "outputs": [],
   "source": []
  }
 ],
 "metadata": {
  "kernelspec": {
   "display_name": "Python 3",
   "language": "python",
   "name": "python3"
  },
  "language_info": {
   "codemirror_mode": {
    "name": "ipython",
    "version": 3
   },
   "file_extension": ".py",
   "mimetype": "text/x-python",
   "name": "python",
   "nbconvert_exporter": "python",
   "pygments_lexer": "ipython3",
   "version": "3.8.5"
  },
  "toc": {
   "base_numbering": 1,
   "nav_menu": {},
   "number_sections": true,
   "sideBar": true,
   "skip_h1_title": false,
   "title_cell": "Table of Contents",
   "title_sidebar": "Contents",
   "toc_cell": false,
   "toc_position": {},
   "toc_section_display": true,
   "toc_window_display": false
  }
 },
 "nbformat": 4,
 "nbformat_minor": 4
}
