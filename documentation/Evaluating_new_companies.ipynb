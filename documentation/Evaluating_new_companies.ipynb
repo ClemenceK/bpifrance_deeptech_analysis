{
 "cells": [
  {
   "cell_type": "code",
   "execution_count": 80,
   "metadata": {
    "ExecuteTime": {
     "end_time": "2020-12-17T19:45:46.374937Z",
     "start_time": "2020-12-17T19:45:46.325358Z"
    }
   },
   "outputs": [],
   "source": [
    "%load_ext autoreload\n",
    "%autoreload 2"
   ]
  },
  {
   "cell_type": "code",
   "execution_count": 13,
   "metadata": {
    "ExecuteTime": {
     "end_time": "2020-12-17T19:09:45.695013Z",
     "start_time": "2020-12-17T19:09:45.691246Z"
    }
   },
   "outputs": [],
   "source": [
    "import pandas as pd\n",
    "import numpy as np"
   ]
  },
  {
   "cell_type": "markdown",
   "metadata": {},
   "source": [
    "## Preparation"
   ]
  },
  {
   "cell_type": "markdown",
   "metadata": {},
   "source": [
    "### Package loading"
   ]
  },
  {
   "cell_type": "markdown",
   "metadata": {},
   "source": [
    "(To do once per environment)\n",
    "\n",
    "Clone the package from https://github.com/ClemenceK/bpifrance_deeptech_analysis\n",
    "(You probably have already done it if you have this notebook!)"
   ]
  },
  {
   "cell_type": "markdown",
   "metadata": {
    "ExecuteTime": {
     "end_time": "2020-12-17T16:07:35.817566Z",
     "start_time": "2020-12-17T16:07:30.737021Z"
    },
    "collapsed": true
   },
   "source": [
    "In a terminal, move to this project's folder (one step above this notebook, where the setup.py is) in your terminal \n",
    "and install from there: \n",
    "\n",
    "`pip install .`"
   ]
  },
  {
   "cell_type": "markdown",
   "metadata": {},
   "source": [
    "Clone in the same place as the first package the package from: https://github.com/ClemenceK/deep4deep"
   ]
  },
  {
   "cell_type": "markdown",
   "metadata": {
    "ExecuteTime": {
     "end_time": "2020-12-16T10:35:49.924200Z",
     "start_time": "2020-12-16T10:35:47.187261Z"
    },
    "collapsed": true
   },
   "source": [
    "In the terminal, stay in the same folder as before and install the deep4deep package:\n",
    "`pip install ../../deep4deep/`"
   ]
  },
  {
   "cell_type": "code",
   "execution_count": 1,
   "metadata": {
    "ExecuteTime": {
     "end_time": "2020-12-17T18:34:52.320507Z",
     "start_time": "2020-12-17T18:34:52.309353Z"
    }
   },
   "outputs": [
    {
     "name": "stdout",
     "output_type": "stream",
     "text": [
      "It works if below is printed something like: test 0.0, or another figure\n",
      "test 0.0\n"
     ]
    }
   ],
   "source": [
    "#this can be used to test if the import worked\n",
    "from deep4deep.utils import simple_time_tracker\n",
    "\n",
    "@simple_time_tracker\n",
    "def test():\n",
    "    print(\"It works if below is printed something like: test 0.0, or another figure\")\n",
    "    \n",
    "test()"
   ]
  },
  {
   "cell_type": "markdown",
   "metadata": {},
   "source": [
    "### Local files preparation"
   ]
  },
  {
   "cell_type": "markdown",
   "metadata": {},
   "source": [
    "In the bpideep folder, create a .env file, and in this file write:\n",
    "\n",
    "DEALROOMAPIKEY= 'your_key' (replace by your key)\n",
    "\n",
    "(this is to avoid loading your key on github: .env is mentionned in .gitignore to not be uploaded)"
   ]
  },
  {
   "cell_type": "markdown",
   "metadata": {},
   "source": [
    "In bpifrance_deeptech_analysis, create a data and raw_data local folders, with inside:\n",
    "[TODO if needed]"
   ]
  },
  {
   "cell_type": "markdown",
   "metadata": {},
   "source": [
    "## Building the base data from dealroom"
   ]
  },
  {
   "cell_type": "markdown",
   "metadata": {},
   "source": [
    "### Get data from Dealroom with the functions written by the former Wagon team, either by : \n",
    "\n",
    "- **Dealroom ID** : \n",
    "    + List all the companies Dealroom ID you want to analyse in 3 different csv according to the companies classification (deeptech, non_deeptech, almost_deeptech) and save these three csv in the folder \"data\". \n",
    "    + Import and use the function `getdata.getfulldata()` (former wagon team function) to get the new companies data from Dealroom and save the csv in the local folder `bpideep/rawdata`\n",
    "\n",
    "- **Name** : use the function `company_search` on each individual company:\n",
    "\n",
    "\n",
    "```\n",
    "from bpideep.getdata import company_search\n",
    "company_search(\"verkor\")\n",
    "```\n"
   ]
  },
  {
   "cell_type": "markdown",
   "metadata": {},
   "source": [
    "⚠️⚠️⚠️ \n",
    "**Important note: the search for new companies would need to be performed by batch if you have a limited number of Dealroom API calls (or if you are billed according to the number of calls)**"
   ]
  },
  {
   "cell_type": "code",
   "execution_count": 2,
   "metadata": {
    "ExecuteTime": {
     "end_time": "2020-12-16T22:03:42.594652Z",
     "start_time": "2020-12-16T22:03:41.786108Z"
    }
   },
   "outputs": [],
   "source": [
    "from bpideep.getdata import company_search"
   ]
  },
  {
   "cell_type": "markdown",
   "metadata": {},
   "source": [
    "**Code to get Dealroom data for our 9 companies:**\n",
    "\n",
    "Note: to minimize API calls, run the code below only if you need to get new data and save the new_data. \n",
    "\n",
    "If you are just looking, copy demo_data.csv from the Google Drive>to copy in raw_data to your bpideep/rawdata folder (to create if needed – we don't synchronize data on github because it can be heavy) then use the code in the cell below to load it. You can also try it on just 1 or 2 companies to limit API calls."
   ]
  },
  {
   "cell_type": "markdown",
   "metadata": {
    "ExecuteTime": {
     "end_time": "2020-12-17T18:48:10.864399Z",
     "start_time": "2020-12-17T18:48:09.286284Z"
    },
    "collapsed": true
   },
   "source": [
    "new = [\"verkor\", \"angell\", \"carbios\",\"mastergrid\",\"pasqal\",\"gourmey\", \"Epigene Labs\",\"SpaceSense\",\"Kraaft\"]\n",
    "df = pd.DataFrame()\n",
    "\n",
    "for company in new :\n",
    "    \n",
    "    tmp = company_search(company)\n",
    "    df = pd.concat([df, tmp], ignore_index=True)\n",
    "\n",
    "df.to_csv(\"../bpideep/rawdata/demo_data.csv\", index=False)\n",
    "df.head(2)"
   ]
  },
  {
   "cell_type": "code",
   "execution_count": 105,
   "metadata": {
    "ExecuteTime": {
     "end_time": "2020-12-17T19:51:19.088479Z",
     "start_time": "2020-12-17T19:51:19.027231Z"
    }
   },
   "outputs": [],
   "source": [
    "# code to load demo_data.csv if you are just looking for a demo (after copying it from Google Drive)\n",
    "# run it anyway if you used the code in the previous cell to save data (you can change the file name in both cells)\n",
    "# as the 'load_json_field' function below is made to work on a loaded csv\n",
    "df = pd.read_csv(\"../bpideep/rawdata/demo_data.csv\")"
   ]
  },
  {
   "cell_type": "markdown",
   "metadata": {},
   "source": [
    "### Select the needed columns to make the data analysis easier"
   ]
  },
  {
   "cell_type": "code",
   "execution_count": 106,
   "metadata": {
    "ExecuteTime": {
     "end_time": "2020-12-17T19:51:20.223886Z",
     "start_time": "2020-12-17T19:51:20.148037Z"
    }
   },
   "outputs": [
    {
     "data": {
      "text/html": [
       "<div>\n",
       "<style scoped>\n",
       "    .dataframe tbody tr th:only-of-type {\n",
       "        vertical-align: middle;\n",
       "    }\n",
       "\n",
       "    .dataframe tbody tr th {\n",
       "        vertical-align: top;\n",
       "    }\n",
       "\n",
       "    .dataframe thead th {\n",
       "        text-align: right;\n",
       "    }\n",
       "</style>\n",
       "<table border=\"1\" class=\"dataframe\">\n",
       "  <thead>\n",
       "    <tr style=\"text-align: right;\">\n",
       "      <th></th>\n",
       "      <th>id</th>\n",
       "      <th>name</th>\n",
       "      <th>total_funding_source</th>\n",
       "      <th>employees</th>\n",
       "      <th>employees_latest</th>\n",
       "      <th>launch_year</th>\n",
       "      <th>growth_stage</th>\n",
       "      <th>linkedin_url</th>\n",
       "      <th>industries</th>\n",
       "      <th>investors</th>\n",
       "    </tr>\n",
       "  </thead>\n",
       "  <tbody>\n",
       "    <tr>\n",
       "      <th>0</th>\n",
       "      <td>1985985</td>\n",
       "      <td>Verkor</td>\n",
       "      <td>0</td>\n",
       "      <td>2-10</td>\n",
       "      <td>9.0</td>\n",
       "      <td>2020</td>\n",
       "      <td>seed</td>\n",
       "      <td>https://www.linkedin.com/company/verkor/</td>\n",
       "      <td>[{'id': 100023, 'name': 'energy'}]</td>\n",
       "      <td>{'items': [{'id': 869605, 'name': 'EIT InnoEne...</td>\n",
       "    </tr>\n",
       "    <tr>\n",
       "      <th>1</th>\n",
       "      <td>1841152</td>\n",
       "      <td>Angell</td>\n",
       "      <td>10000000</td>\n",
       "      <td>11-50</td>\n",
       "      <td>25.0</td>\n",
       "      <td>2018</td>\n",
       "      <td>early growth</td>\n",
       "      <td>https://www.linkedin.com/company/angell</td>\n",
       "      <td>[{'id': 100111, 'name': 'transportation'}]</td>\n",
       "      <td>{'items': [{'id': 1476722, 'name': 'Groupe SEB...</td>\n",
       "    </tr>\n",
       "  </tbody>\n",
       "</table>\n",
       "</div>"
      ],
      "text/plain": [
       "        id    name  total_funding_source employees  employees_latest  \\\n",
       "0  1985985  Verkor                     0      2-10               9.0   \n",
       "1  1841152  Angell              10000000     11-50              25.0   \n",
       "\n",
       "   launch_year  growth_stage                              linkedin_url  \\\n",
       "0         2020          seed  https://www.linkedin.com/company/verkor/   \n",
       "1         2018  early growth   https://www.linkedin.com/company/angell   \n",
       "\n",
       "                                   industries  \\\n",
       "0          [{'id': 100023, 'name': 'energy'}]   \n",
       "1  [{'id': 100111, 'name': 'transportation'}]   \n",
       "\n",
       "                                           investors  \n",
       "0  {'items': [{'id': 869605, 'name': 'EIT InnoEne...  \n",
       "1  {'items': [{'id': 1476722, 'name': 'Groupe SEB...  "
      ]
     },
     "execution_count": 106,
     "metadata": {},
     "output_type": "execute_result"
    }
   ],
   "source": [
    "new_data = df[[\"id\", \"name\", \"total_funding_source\", \"employees\",\n",
    "               \"employees_latest\", \"launch_year\", \"growth_stage\", \n",
    "               \"linkedin_url\", \"industries\", \"investors\"]].copy()\n",
    "new_data.head(2)"
   ]
  },
  {
   "cell_type": "markdown",
   "metadata": {},
   "source": [
    "### Add nb_patents to the new_data. \n",
    "\n",
    "Note: In our example, as we don't have an extract from Google Patents Search, we will only create a column \"nb_patents\" with 0 in it."
   ]
  },
  {
   "cell_type": "code",
   "execution_count": 107,
   "metadata": {
    "ExecuteTime": {
     "end_time": "2020-12-17T19:51:21.728518Z",
     "start_time": "2020-12-17T19:51:21.683880Z"
    }
   },
   "outputs": [],
   "source": [
    "new_data[\"nb_patents\"] = np.full([new_data.shape[0], 1], 0)"
   ]
  },
  {
   "cell_type": "markdown",
   "metadata": {},
   "source": [
    "### Create a new column \"age\" to get the age of the company thanks to the column \"launch_year\""
   ]
  },
  {
   "cell_type": "code",
   "execution_count": 108,
   "metadata": {
    "ExecuteTime": {
     "end_time": "2020-12-17T19:51:22.767702Z",
     "start_time": "2020-12-17T19:51:22.722791Z"
    }
   },
   "outputs": [],
   "source": [
    "new_data[\"age\"] = 2020 - new_data.launch_year"
   ]
  },
  {
   "cell_type": "markdown",
   "metadata": {},
   "source": [
    "### Create a new feature \"investors_type\""
   ]
  },
  {
   "cell_type": "code",
   "execution_count": 109,
   "metadata": {
    "ExecuteTime": {
     "end_time": "2020-12-17T19:51:23.890300Z",
     "start_time": "2020-12-17T19:51:23.842632Z"
    }
   },
   "outputs": [],
   "source": [
    "# loading a few functions to help create investors_type column\n",
    "from bpideep.GetCleanData import load_json_field, get_health, investors_type, simple_fund_investors"
   ]
  },
  {
   "cell_type": "code",
   "execution_count": 110,
   "metadata": {
    "ExecuteTime": {
     "end_time": "2020-12-17T19:51:24.912499Z",
     "start_time": "2020-12-17T19:51:24.843784Z"
    }
   },
   "outputs": [
    {
     "data": {
      "text/html": [
       "<div>\n",
       "<style scoped>\n",
       "    .dataframe tbody tr th:only-of-type {\n",
       "        vertical-align: middle;\n",
       "    }\n",
       "\n",
       "    .dataframe tbody tr th {\n",
       "        vertical-align: top;\n",
       "    }\n",
       "\n",
       "    .dataframe thead th {\n",
       "        text-align: right;\n",
       "    }\n",
       "</style>\n",
       "<table border=\"1\" class=\"dataframe\">\n",
       "  <thead>\n",
       "    <tr style=\"text-align: right;\">\n",
       "      <th></th>\n",
       "      <th>id</th>\n",
       "      <th>name</th>\n",
       "      <th>total_funding_source</th>\n",
       "      <th>employees</th>\n",
       "      <th>employees_latest</th>\n",
       "      <th>launch_year</th>\n",
       "      <th>growth_stage</th>\n",
       "      <th>linkedin_url</th>\n",
       "      <th>industries</th>\n",
       "      <th>investors</th>\n",
       "      <th>nb_patents</th>\n",
       "      <th>age</th>\n",
       "      <th>investors_type</th>\n",
       "    </tr>\n",
       "  </thead>\n",
       "  <tbody>\n",
       "    <tr>\n",
       "      <th>0</th>\n",
       "      <td>1985985</td>\n",
       "      <td>Verkor</td>\n",
       "      <td>0</td>\n",
       "      <td>2-10</td>\n",
       "      <td>9.0</td>\n",
       "      <td>2020</td>\n",
       "      <td>seed</td>\n",
       "      <td>https://www.linkedin.com/company/verkor/</td>\n",
       "      <td>[{'id': 100023, 'name': 'energy'}]</td>\n",
       "      <td>{'items': [{'id': 869605, 'name': 'EIT InnoEne...</td>\n",
       "      <td>0</td>\n",
       "      <td>0</td>\n",
       "      <td>1</td>\n",
       "    </tr>\n",
       "    <tr>\n",
       "      <th>1</th>\n",
       "      <td>1841152</td>\n",
       "      <td>Angell</td>\n",
       "      <td>10000000</td>\n",
       "      <td>11-50</td>\n",
       "      <td>25.0</td>\n",
       "      <td>2018</td>\n",
       "      <td>early growth</td>\n",
       "      <td>https://www.linkedin.com/company/angell</td>\n",
       "      <td>[{'id': 100111, 'name': 'transportation'}]</td>\n",
       "      <td>{'items': [{'id': 1476722, 'name': 'Groupe SEB...</td>\n",
       "      <td>0</td>\n",
       "      <td>2</td>\n",
       "      <td>0</td>\n",
       "    </tr>\n",
       "  </tbody>\n",
       "</table>\n",
       "</div>"
      ],
      "text/plain": [
       "        id    name  total_funding_source employees  employees_latest  \\\n",
       "0  1985985  Verkor                     0      2-10               9.0   \n",
       "1  1841152  Angell              10000000     11-50              25.0   \n",
       "\n",
       "   launch_year  growth_stage                              linkedin_url  \\\n",
       "0         2020          seed  https://www.linkedin.com/company/verkor/   \n",
       "1         2018  early growth   https://www.linkedin.com/company/angell   \n",
       "\n",
       "                                   industries  \\\n",
       "0          [{'id': 100023, 'name': 'energy'}]   \n",
       "1  [{'id': 100111, 'name': 'transportation'}]   \n",
       "\n",
       "                                           investors  nb_patents  age  \\\n",
       "0  {'items': [{'id': 869605, 'name': 'EIT InnoEne...           0    0   \n",
       "1  {'items': [{'id': 1476722, 'name': 'Groupe SEB...           0    2   \n",
       "\n",
       "   investors_type  \n",
       "0               1  \n",
       "1               0  "
      ]
     },
     "execution_count": 110,
     "metadata": {},
     "output_type": "execute_result"
    }
   ],
   "source": [
    "# from string back to json for fields that have been \"stringified\" by saving to csv\n",
    "new_data[\"investors\"] = new_data[\"investors\"].apply(load_json_field)\n",
    "\n",
    "#extracting the types of investors from the json\n",
    "new_data[\"investors_type\"] = new_data[\"investors\"].map(investors_type)\n",
    "\n",
    "#encoding as 0 or 1\n",
    "new_data.loc[:,'investors_type'] = new_data['investors_type'].map(simple_fund_investors)\n",
    "\n",
    "new_data.head(2)"
   ]
  },
  {
   "cell_type": "markdown",
   "metadata": {},
   "source": [
    "Note: if you get mistakes, it might be because you ran the same cell multiple times, so the columns are not as expected anymore. Rerun from 2.1"
   ]
  },
  {
   "cell_type": "markdown",
   "metadata": {},
   "source": [
    "### Create a new feature \"health_industry\""
   ]
  },
  {
   "cell_type": "code",
   "execution_count": 115,
   "metadata": {
    "ExecuteTime": {
     "end_time": "2020-12-17T19:55:51.365512Z",
     "start_time": "2020-12-17T19:55:51.287028Z"
    }
   },
   "outputs": [
    {
     "data": {
      "text/html": [
       "<div>\n",
       "<style scoped>\n",
       "    .dataframe tbody tr th:only-of-type {\n",
       "        vertical-align: middle;\n",
       "    }\n",
       "\n",
       "    .dataframe tbody tr th {\n",
       "        vertical-align: top;\n",
       "    }\n",
       "\n",
       "    .dataframe thead th {\n",
       "        text-align: right;\n",
       "    }\n",
       "</style>\n",
       "<table border=\"1\" class=\"dataframe\">\n",
       "  <thead>\n",
       "    <tr style=\"text-align: right;\">\n",
       "      <th></th>\n",
       "      <th>id</th>\n",
       "      <th>name</th>\n",
       "      <th>total_funding_source</th>\n",
       "      <th>employees</th>\n",
       "      <th>employees_latest</th>\n",
       "      <th>launch_year</th>\n",
       "      <th>growth_stage</th>\n",
       "      <th>linkedin_url</th>\n",
       "      <th>industries</th>\n",
       "      <th>investors</th>\n",
       "      <th>nb_patents</th>\n",
       "      <th>age</th>\n",
       "      <th>investors_type</th>\n",
       "      <th>health_industry</th>\n",
       "    </tr>\n",
       "  </thead>\n",
       "  <tbody>\n",
       "    <tr>\n",
       "      <th>0</th>\n",
       "      <td>1985985</td>\n",
       "      <td>Verkor</td>\n",
       "      <td>0</td>\n",
       "      <td>2-10</td>\n",
       "      <td>9.0</td>\n",
       "      <td>2020</td>\n",
       "      <td>seed</td>\n",
       "      <td>https://www.linkedin.com/company/verkor/</td>\n",
       "      <td>[{'id': 100023, 'name': 'energy'}]</td>\n",
       "      <td>{'items': [{'id': 869605, 'name': 'EIT InnoEne...</td>\n",
       "      <td>0</td>\n",
       "      <td>0</td>\n",
       "      <td>1</td>\n",
       "      <td>0</td>\n",
       "    </tr>\n",
       "    <tr>\n",
       "      <th>1</th>\n",
       "      <td>1841152</td>\n",
       "      <td>Angell</td>\n",
       "      <td>10000000</td>\n",
       "      <td>11-50</td>\n",
       "      <td>25.0</td>\n",
       "      <td>2018</td>\n",
       "      <td>early growth</td>\n",
       "      <td>https://www.linkedin.com/company/angell</td>\n",
       "      <td>[{'id': 100111, 'name': 'transportation'}]</td>\n",
       "      <td>{'items': [{'id': 1476722, 'name': 'Groupe SEB...</td>\n",
       "      <td>0</td>\n",
       "      <td>2</td>\n",
       "      <td>0</td>\n",
       "      <td>0</td>\n",
       "    </tr>\n",
       "  </tbody>\n",
       "</table>\n",
       "</div>"
      ],
      "text/plain": [
       "        id    name  total_funding_source employees  employees_latest  \\\n",
       "0  1985985  Verkor                     0      2-10               9.0   \n",
       "1  1841152  Angell              10000000     11-50              25.0   \n",
       "\n",
       "   launch_year  growth_stage                              linkedin_url  \\\n",
       "0         2020          seed  https://www.linkedin.com/company/verkor/   \n",
       "1         2018  early growth   https://www.linkedin.com/company/angell   \n",
       "\n",
       "                                   industries  \\\n",
       "0          [{'id': 100023, 'name': 'energy'}]   \n",
       "1  [{'id': 100111, 'name': 'transportation'}]   \n",
       "\n",
       "                                           investors  nb_patents  age  \\\n",
       "0  {'items': [{'id': 869605, 'name': 'EIT InnoEne...           0    0   \n",
       "1  {'items': [{'id': 1476722, 'name': 'Groupe SEB...           0    2   \n",
       "\n",
       "   investors_type  health_industry  \n",
       "0               1                0  \n",
       "1               0                0  "
      ]
     },
     "execution_count": 115,
     "metadata": {},
     "output_type": "execute_result"
    }
   ],
   "source": [
    "new_data[\"health_industry\"] = get_health(new_data[\"industries\"])\n",
    "new_data.head(2)"
   ]
  },
  {
   "cell_type": "markdown",
   "metadata": {},
   "source": [
    "### To use the pipeline, name of the feature columns should be the same"
   ]
  },
  {
   "cell_type": "code",
   "execution_count": 117,
   "metadata": {
    "ExecuteTime": {
     "end_time": "2020-12-17T20:12:03.309770Z",
     "start_time": "2020-12-17T20:12:03.237390Z"
    }
   },
   "outputs": [
    {
     "data": {
      "text/html": [
       "<div>\n",
       "<style scoped>\n",
       "    .dataframe tbody tr th:only-of-type {\n",
       "        vertical-align: middle;\n",
       "    }\n",
       "\n",
       "    .dataframe tbody tr th {\n",
       "        vertical-align: top;\n",
       "    }\n",
       "\n",
       "    .dataframe thead th {\n",
       "        text-align: right;\n",
       "    }\n",
       "</style>\n",
       "<table border=\"1\" class=\"dataframe\">\n",
       "  <thead>\n",
       "    <tr style=\"text-align: right;\">\n",
       "      <th></th>\n",
       "      <th>id</th>\n",
       "      <th>name</th>\n",
       "      <th>total_funding_source</th>\n",
       "      <th>employees</th>\n",
       "      <th>employees_clean</th>\n",
       "      <th>launch_year_clean</th>\n",
       "      <th>growth_stage_imputed</th>\n",
       "      <th>linkedin_url</th>\n",
       "      <th>industries</th>\n",
       "      <th>investors</th>\n",
       "      <th>nb_patents</th>\n",
       "      <th>age</th>\n",
       "      <th>investors_type</th>\n",
       "      <th>health_industry</th>\n",
       "    </tr>\n",
       "  </thead>\n",
       "  <tbody>\n",
       "    <tr>\n",
       "      <th>0</th>\n",
       "      <td>1985985</td>\n",
       "      <td>Verkor</td>\n",
       "      <td>0</td>\n",
       "      <td>2-10</td>\n",
       "      <td>9.0</td>\n",
       "      <td>2020</td>\n",
       "      <td>seed</td>\n",
       "      <td>https://www.linkedin.com/company/verkor/</td>\n",
       "      <td>[{'id': 100023, 'name': 'energy'}]</td>\n",
       "      <td>{'items': [{'id': 869605, 'name': 'EIT InnoEne...</td>\n",
       "      <td>0</td>\n",
       "      <td>0</td>\n",
       "      <td>1</td>\n",
       "      <td>0</td>\n",
       "    </tr>\n",
       "    <tr>\n",
       "      <th>1</th>\n",
       "      <td>1841152</td>\n",
       "      <td>Angell</td>\n",
       "      <td>10000000</td>\n",
       "      <td>11-50</td>\n",
       "      <td>25.0</td>\n",
       "      <td>2018</td>\n",
       "      <td>early growth</td>\n",
       "      <td>https://www.linkedin.com/company/angell</td>\n",
       "      <td>[{'id': 100111, 'name': 'transportation'}]</td>\n",
       "      <td>{'items': [{'id': 1476722, 'name': 'Groupe SEB...</td>\n",
       "      <td>0</td>\n",
       "      <td>2</td>\n",
       "      <td>0</td>\n",
       "      <td>0</td>\n",
       "    </tr>\n",
       "  </tbody>\n",
       "</table>\n",
       "</div>"
      ],
      "text/plain": [
       "        id    name  total_funding_source employees  employees_clean  \\\n",
       "0  1985985  Verkor                     0      2-10              9.0   \n",
       "1  1841152  Angell              10000000     11-50             25.0   \n",
       "\n",
       "   launch_year_clean growth_stage_imputed  \\\n",
       "0               2020                 seed   \n",
       "1               2018         early growth   \n",
       "\n",
       "                               linkedin_url  \\\n",
       "0  https://www.linkedin.com/company/verkor/   \n",
       "1   https://www.linkedin.com/company/angell   \n",
       "\n",
       "                                   industries  \\\n",
       "0          [{'id': 100023, 'name': 'energy'}]   \n",
       "1  [{'id': 100111, 'name': 'transportation'}]   \n",
       "\n",
       "                                           investors  nb_patents  age  \\\n",
       "0  {'items': [{'id': 869605, 'name': 'EIT InnoEne...           0    0   \n",
       "1  {'items': [{'id': 1476722, 'name': 'Groupe SEB...           0    2   \n",
       "\n",
       "   investors_type  health_industry  \n",
       "0               1                0  \n",
       "1               0                0  "
      ]
     },
     "execution_count": 117,
     "metadata": {},
     "output_type": "execute_result"
    }
   ],
   "source": [
    "new_data.rename(columns={\"employees_latest\": \"employees_clean\", \"launch_year\": \"launch_year_clean\", \"growth_stage\": \"growth_stage_imputed\"}, inplace=True)\n",
    "new_data.head(2)"
   ]
  },
  {
   "cell_type": "markdown",
   "metadata": {},
   "source": [
    "## Scraping and adding the LinkedIn data"
   ]
  },
  {
   "cell_type": "markdown",
   "metadata": {},
   "source": [
    "### Generate scripts for webscraper and scrape LinkedIn\n",
    "Use the Florent_demo notebook (in notebooks folder and/or documentation floder) to scrape files from Linked In\n",
    "(request a demo to Florent Martin if needed!)"
   ]
  },
  {
   "cell_type": "markdown",
   "metadata": {},
   "source": [
    "The scraped data should be included in a folder `bpi_deep/scraping_data/companies_people/`\n",
    "prior to calling the function \"build employee_df\""
   ]
  },
  {
   "cell_type": "markdown",
   "metadata": {},
   "source": [
    "### Process the scraped data to a dataframe"
   ]
  },
  {
   "cell_type": "markdown",
   "metadata": {},
   "source": [
    "Create a `result_files` directory inside the `bpi_deep/scraping_data/` folder."
   ]
  },
  {
   "cell_type": "code",
   "execution_count": 128,
   "metadata": {
    "ExecuteTime": {
     "end_time": "2020-12-17T21:07:15.162842Z",
     "start_time": "2020-12-17T21:07:15.117843Z"
    }
   },
   "outputs": [],
   "source": [
    "from bpideep.process_scraped_data import build_employee_df, process_employee_data"
   ]
  },
  {
   "cell_type": "code",
   "execution_count": 139,
   "metadata": {
    "ExecuteTime": {
     "end_time": "2020-12-17T21:15:40.526623Z",
     "start_time": "2020-12-17T21:15:40.443042Z"
    }
   },
   "outputs": [],
   "source": [
    "df_employees= process_employee_data(build_employee_df())"
   ]
  },
  {
   "cell_type": "code",
   "execution_count": 142,
   "metadata": {
    "ExecuteTime": {
     "end_time": "2020-12-17T21:15:54.917663Z",
     "start_time": "2020-12-17T21:15:54.857722Z"
    },
    "scrolled": false
   },
   "outputs": [
    {
     "data": {
      "text/html": [
       "<div>\n",
       "<style scoped>\n",
       "    .dataframe tbody tr th:only-of-type {\n",
       "        vertical-align: middle;\n",
       "    }\n",
       "\n",
       "    .dataframe tbody tr th {\n",
       "        vertical-align: top;\n",
       "    }\n",
       "\n",
       "    .dataframe thead th {\n",
       "        text-align: right;\n",
       "    }\n",
       "</style>\n",
       "<table border=\"1\" class=\"dataframe\">\n",
       "  <thead>\n",
       "    <tr style=\"text-align: right;\">\n",
       "      <th></th>\n",
       "      <th>employee_name</th>\n",
       "      <th>title</th>\n",
       "      <th>profile-href</th>\n",
       "      <th>linkedin_url</th>\n",
       "      <th>technical</th>\n",
       "      <th>founder</th>\n",
       "      <th>phd</th>\n",
       "    </tr>\n",
       "  </thead>\n",
       "  <tbody>\n",
       "    <tr>\n",
       "      <th>0</th>\n",
       "      <td>Agnès Mathé</td>\n",
       "      <td>responsable communication</td>\n",
       "      <td>https://www.linkedin.com/in/agn%C3%A8s-math%C3...</td>\n",
       "      <td>https://www.linkedin.com/company/carbios</td>\n",
       "      <td>0</td>\n",
       "      <td>0</td>\n",
       "      <td>0</td>\n",
       "    </tr>\n",
       "    <tr>\n",
       "      <th>1</th>\n",
       "      <td>Loic Zangara</td>\n",
       "      <td>vice-president france &amp; operations</td>\n",
       "      <td>https://www.linkedin.com/in/loic-zangara-b8190...</td>\n",
       "      <td>https://www.linkedin.com/company/mastergrid</td>\n",
       "      <td>0</td>\n",
       "      <td>0</td>\n",
       "      <td>0</td>\n",
       "    </tr>\n",
       "    <tr>\n",
       "      <th>2</th>\n",
       "      <td>Gilles Stedile</td>\n",
       "      <td>superviseur chantier</td>\n",
       "      <td>https://www.linkedin.com/in/gilles-stedile-28b...</td>\n",
       "      <td>https://www.linkedin.com/company/mastergrid</td>\n",
       "      <td>0</td>\n",
       "      <td>0</td>\n",
       "      <td>0</td>\n",
       "    </tr>\n",
       "    <tr>\n",
       "      <th>3</th>\n",
       "      <td>NaN</td>\n",
       "      <td>directeur technique</td>\n",
       "      <td>NaN</td>\n",
       "      <td>https://www.linkedin.com/company/mastergrid</td>\n",
       "      <td>1</td>\n",
       "      <td>0</td>\n",
       "      <td>0</td>\n",
       "    </tr>\n",
       "    <tr>\n",
       "      <th>4</th>\n",
       "      <td>Meryl Merloz</td>\n",
       "      <td>purchaser</td>\n",
       "      <td>https://www.linkedin.com/in/merylmerloz/</td>\n",
       "      <td>https://www.linkedin.com/company/mastergrid</td>\n",
       "      <td>0</td>\n",
       "      <td>0</td>\n",
       "      <td>0</td>\n",
       "    </tr>\n",
       "  </tbody>\n",
       "</table>\n",
       "</div>"
      ],
      "text/plain": [
       "    employee_name                               title  \\\n",
       "0     Agnès Mathé           responsable communication   \n",
       "1    Loic Zangara  vice-president france & operations   \n",
       "2  Gilles Stedile                superviseur chantier   \n",
       "3             NaN                 directeur technique   \n",
       "4    Meryl Merloz                           purchaser   \n",
       "\n",
       "                                        profile-href  \\\n",
       "0  https://www.linkedin.com/in/agn%C3%A8s-math%C3...   \n",
       "1  https://www.linkedin.com/in/loic-zangara-b8190...   \n",
       "2  https://www.linkedin.com/in/gilles-stedile-28b...   \n",
       "3                                                NaN   \n",
       "4           https://www.linkedin.com/in/merylmerloz/   \n",
       "\n",
       "                                  linkedin_url  technical  founder  phd  \n",
       "0     https://www.linkedin.com/company/carbios          0        0    0  \n",
       "1  https://www.linkedin.com/company/mastergrid          0        0    0  \n",
       "2  https://www.linkedin.com/company/mastergrid          0        0    0  \n",
       "3  https://www.linkedin.com/company/mastergrid          1        0    0  \n",
       "4  https://www.linkedin.com/company/mastergrid          0        0    0  "
      ]
     },
     "execution_count": 142,
     "metadata": {},
     "output_type": "execute_result"
    }
   ],
   "source": [
    "#Example of the content of the employee dataframe after processing\n",
    "df_employees.head(5)"
   ]
  },
  {
   "cell_type": "code",
   "execution_count": null,
   "metadata": {},
   "outputs": [],
   "source": [
    "############################\n",
    "# stopping here because i don't understand how you can scrape only now…\n",
    "############################"
   ]
  },
  {
   "cell_type": "markdown",
   "metadata": {},
   "source": [
    "At this point, generate scripts for profile scraping on LinkedIn and scrape"
   ]
  },
  {
   "cell_type": "code",
   "execution_count": null,
   "metadata": {
    "ExecuteTime": {
     "end_time": "2020-12-16T11:28:29.747490Z",
     "start_time": "2020-12-16T11:28:29.737778Z"
    }
   },
   "outputs": [],
   "source": [
    "# Prior to calling the function \"open_founder_profile_files\", the csv containing the scrapped data from founders\n",
    "# should be included in a folder 'bpi_deep/scraping_data/founders_files/'\n",
    "from bpideep.process_scraped_data import open_founder_profile_files, inline_profile\n",
    "from bpideep.process_scraped_data import build_founders_dataframe, generate_founders_features\n",
    "df_founders_raw = open_founder_profile_files()"
   ]
  },
  {
   "cell_type": "code",
   "execution_count": null,
   "metadata": {
    "ExecuteTime": {
     "end_time": "2020-12-16T11:28:41.714285Z",
     "start_time": "2020-12-16T11:28:41.090417Z"
    }
   },
   "outputs": [],
   "source": [
    "#The function \"build_founders_dataframe\" processes the raw df and returns a df with one line per founder\n",
    "#The function \"generate_founders_features\" generates the new relevant features such as \"founder_has_phd\" etc..\n",
    "df_founders = generate_founders_features(build_founders_dataframe(df_founders_raw))"
   ]
  },
  {
   "cell_type": "code",
   "execution_count": null,
   "metadata": {
    "ExecuteTime": {
     "end_time": "2020-12-16T11:28:52.474896Z",
     "start_time": "2020-12-16T11:28:52.445559Z"
    }
   },
   "outputs": [],
   "source": [
    "df_founders.head(5)"
   ]
  },
  {
   "cell_type": "code",
   "execution_count": null,
   "metadata": {
    "ExecuteTime": {
     "end_time": "2020-12-16T11:29:42.307664Z",
     "start_time": "2020-12-16T11:29:42.276463Z"
    }
   },
   "outputs": [],
   "source": [
    "# Finally, we merge founders to the full employee DF, update the feature (\"technical\"), and aggregate into companies\n",
    "from bpideep.process_scraped_data import companies_technical_stats_with_founders_features, update_technical\n",
    "df_employees_full = update_technical(df_employees, df_founders)\n",
    "df_companies_stats_with_founders_features = companies_technical_stats_with_founders_features(df_employees_full)\n",
    "df_companies_stats_with_founders_features.head(5)"
   ]
  },
  {
   "cell_type": "code",
   "execution_count": null,
   "metadata": {
    "ExecuteTime": {
     "end_time": "2020-12-16T11:30:44.704886Z",
     "start_time": "2020-12-16T11:30:44.177815Z"
    }
   },
   "outputs": [],
   "source": [
    "# Last optional step: merge the DF with new company features with the dealroom df (partially preprocessed above)\n",
    "import pandas as pd\n",
    "from bpideep.process_scraped_data import merge_initial_companies_with_founder\n",
    "# df_full = pd.read_csv('../bpideep/rawdata/demo_data.csv')\n",
    "final = merge_initial_companies_with_founder(new_data, df_companies_stats_with_founders_features)"
   ]
  },
  {
   "cell_type": "markdown",
   "metadata": {},
   "source": [
    "## Checking the NaNs"
   ]
  },
  {
   "cell_type": "code",
   "execution_count": 10,
   "metadata": {
    "ExecuteTime": {
     "end_time": "2020-12-16T22:03:54.502972Z",
     "start_time": "2020-12-16T22:03:54.474305Z"
    },
    "scrolled": true
   },
   "outputs": [
    {
     "name": "stdout",
     "output_type": "stream",
     "text": [
      "<class 'pandas.core.frame.DataFrame'>\n",
      "RangeIndex: 9 entries, 0 to 8\n",
      "Data columns (total 14 columns):\n",
      " #   Column                Non-Null Count  Dtype  \n",
      "---  ------                --------------  -----  \n",
      " 0   id                    9 non-null      int64  \n",
      " 1   name                  9 non-null      object \n",
      " 2   total_funding_source  9 non-null      int64  \n",
      " 3   employees             9 non-null      object \n",
      " 4   employees_latest      8 non-null      float64\n",
      " 5   launch_year           9 non-null      int64  \n",
      " 6   growth_stage          9 non-null      object \n",
      " 7   linkedin_url          9 non-null      object \n",
      " 8   industries            9 non-null      object \n",
      " 9   investors             9 non-null      object \n",
      " 10  nb_patents            9 non-null      int64  \n",
      " 11  age                   9 non-null      int64  \n",
      " 12  investors_type        9 non-null      object \n",
      " 13  health_industry       9 non-null      int64  \n",
      "dtypes: float64(1), int64(6), object(7)\n",
      "memory usage: 1.1+ KB\n"
     ]
    }
   ],
   "source": [
    "new_data.info()"
   ]
  },
  {
   "cell_type": "markdown",
   "metadata": {},
   "source": [
    "It is always best to have real data, even approximated and filled manually. \n",
    "The new function GetCleanData.get_clean_data() is built to get a Dealroom database filled with some manual imputings (LinkedIn scraping + manual info collection) for the columns needed for the model. \n",
    "\n",
    "NB : due to the short time we had, the growth stage imputing was included in the GetCleanData.get_clean_data(). It would be better if it is part of the pipeline so that any dataset of new observations can directly be handled by the pipeline. \n",
    "\n",
    "For the other cells, the pipeline will be able to fill in the missing data, using the average or most frequent data in the training set. It is allowed to have empty or NaN cells for the following fields:\n",
    " \n",
    "+ number of employees (column called : \"employees_latest\" in Dealroom and \"employees_clean\" in our function)\n",
    "+ age (created column called \"age\")\n",
    "+ nb_patents\n",
    "\n",
    "+ launch_year (column called : \"launch_year\" in Dealroom and \"lauch_year_clean\" in our function) -> if the imputing growth stage function is directly in the pipeline (not in our case so far)\n",
    "\n",
    "If you have empty cells in any other fields, the model will throw an error, so make sure to fill them."
   ]
  },
  {
   "cell_type": "markdown",
   "metadata": {},
   "source": [
    "In our example, all 9 firms have a growth_stage indicated in Dealroom. So we can directly use the pipeline to predict their classifications."
   ]
  },
  {
   "cell_type": "markdown",
   "metadata": {},
   "source": [
    "Note: To use the function GetCleanData.get_clean_data(), don't forget to save the csv files (for the patents and LinkedIn data) in the folder \"data\", and replace the name of the csv if different from the name written in the function."
   ]
  },
  {
   "cell_type": "markdown",
   "metadata": {},
   "source": [
    "## Using the main model to predict whether the company is deeptech"
   ]
  },
  {
   "cell_type": "markdown",
   "metadata": {
    "ExecuteTime": {
     "end_time": "2020-12-16T09:48:56.126287Z",
     "start_time": "2020-12-16T09:48:56.119249Z"
    }
   },
   "source": [
    "Use the model already trained on our entire dataset (1332 observations) : "
   ]
  },
  {
   "cell_type": "code",
   "execution_count": 19,
   "metadata": {
    "ExecuteTime": {
     "end_time": "2020-12-16T22:08:25.338499Z",
     "start_time": "2020-12-16T22:08:25.281889Z"
    },
    "scrolled": true
   },
   "outputs": [],
   "source": [
    "import dill as pickle\n",
    " \n",
    "# Load pipeline from pickle file\n",
    "my_pipeline = pickle.load(open(\"../bpideep/bpideepmodelnew.pkl\",\"rb\"))"
   ]
  },
  {
   "cell_type": "code",
   "execution_count": null,
   "metadata": {},
   "outputs": [],
   "source": [
    "# Predict the Labels using the reloaded Model\n",
    "y_pred = my_pipeline.predict(final)  "
   ]
  },
  {
   "cell_type": "markdown",
   "metadata": {},
   "source": [
    "## Scraping and using text data"
   ]
  },
  {
   "cell_type": "markdown",
   "metadata": {},
   "source": [
    "The input needs to have the following fields:\n",
    "[TODO]"
   ]
  },
  {
   "cell_type": "markdown",
   "metadata": {},
   "source": [
    "Then use the following functions:"
   ]
  },
  {
   "cell_type": "code",
   "execution_count": null,
   "metadata": {},
   "outputs": [],
   "source": []
  },
  {
   "cell_type": "markdown",
   "metadata": {},
   "source": [
    "## Using the NLP model to predict whether the company is deeptech"
   ]
  },
  {
   "cell_type": "markdown",
   "metadata": {},
   "source": [
    "## Making the two predictions \"vote\" for final prediction"
   ]
  },
  {
   "cell_type": "code",
   "execution_count": null,
   "metadata": {},
   "outputs": [],
   "source": []
  }
 ],
 "metadata": {
  "kernelspec": {
   "display_name": "Python 3",
   "language": "python",
   "name": "python3"
  },
  "language_info": {
   "codemirror_mode": {
    "name": "ipython",
    "version": 3
   },
   "file_extension": ".py",
   "mimetype": "text/x-python",
   "name": "python",
   "nbconvert_exporter": "python",
   "pygments_lexer": "ipython3",
   "version": "3.8.5"
  },
  "toc": {
   "base_numbering": 1,
   "nav_menu": {},
   "number_sections": true,
   "sideBar": true,
   "skip_h1_title": false,
   "title_cell": "Table of Contents",
   "title_sidebar": "Contents",
   "toc_cell": false,
   "toc_position": {},
   "toc_section_display": true,
   "toc_window_display": true
  },
  "varInspector": {
   "cols": {
    "lenName": 16,
    "lenType": 16,
    "lenVar": 40
   },
   "kernels_config": {
    "python": {
     "delete_cmd_postfix": "",
     "delete_cmd_prefix": "del ",
     "library": "var_list.py",
     "varRefreshCmd": "print(var_dic_list())"
    },
    "r": {
     "delete_cmd_postfix": ") ",
     "delete_cmd_prefix": "rm(",
     "library": "var_list.r",
     "varRefreshCmd": "cat(var_dic_list()) "
    }
   },
   "types_to_exclude": [
    "module",
    "function",
    "builtin_function_or_method",
    "instance",
    "_Feature"
   ],
   "window_display": false
  }
 },
 "nbformat": 4,
 "nbformat_minor": 4
}
