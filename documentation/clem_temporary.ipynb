{
 "cells": [
  {
   "cell_type": "code",
   "execution_count": null,
   "metadata": {},
   "outputs": [],
   "source": [
    "from deep4deep.text_retrieval import get_meta_description_columns\n",
    "from deep4deep.w2v_embedding_and_rnn_model import Preprocessor, Embedder\n",
    "from deep4deep.predictor import Predictor"
   ]
  },
  {
   "cell_type": "code",
   "execution_count": null,
   "metadata": {},
   "outputs": [],
   "source": [
    "NLP_useful_columns = ['id', 'name', 'tagline', 'url', 'website_url', 'target']\n",
    "df_for_text = df[NLP_useful_columns].copy()"
   ]
  },
  {
   "cell_type": "code",
   "execution_count": null,
   "metadata": {},
   "outputs": [],
   "source": [
    "df_with_metatags = get_meta_description_columns(df_for_text)"
   ]
  },
  {
   "cell_type": "code",
   "execution_count": null,
   "metadata": {},
   "outputs": [],
   "source": [
    "my_df_meta['full_text'] = my_df_meta.dealroom_meta_description + \" \" + my_df_meta.meta_description"
   ]
  },
  {
   "cell_type": "code",
   "execution_count": null,
   "metadata": {},
   "outputs": [],
   "source": [
    "# ramener toutes les strings avec seulement des espaces à la string vide\n",
    "my_df_meta['full_text'] = my_df_meta['full_text'].map(lambda x : x.strip())"
   ]
  },
  {
   "cell_type": "markdown",
   "metadata": {},
   "source": [
    "### Please ensure there is some text in each cell \n",
    "If there is an empty cell in the \"full_text\" column (either empty string \"\" or NaN), retrieve manually a description from LinkedIn, Welcome to the Jungle, Crunchbase, AngelList, etc.\n",
    "Otherwise the model will give a low score that is not accurate."
   ]
  },
  {
   "cell_type": "code",
   "execution_count": null,
   "metadata": {},
   "outputs": [],
   "source": [
    "Alternatively we can remove problematic rows, which means we would then need to reconstruct the full dataframe\n",
    "# enlever les rows qui n'ont qu'une string vide dans \"full_text\"\n",
    "#my_df_meta = my_df_meta[my_df_meta.full_text!=\"\"]\n",
    "# enlever les rows qui ont nan dans full_text\n",
    "#my_df_meta = my_df_meta.dropna(axis=0, subset=['full_text'])"
   ]
  },
  {
   "cell_type": "code",
   "execution_count": null,
   "metadata": {},
   "outputs": [],
   "source": []
  },
  {
   "cell_type": "code",
   "execution_count": null,
   "metadata": {},
   "outputs": [],
   "source": []
  },
  {
   "cell_type": "code",
   "execution_count": 5,
   "metadata": {
    "ExecuteTime": {
     "end_time": "2020-12-16T16:28:09.844343Z",
     "start_time": "2020-12-16T16:24:04.980650Z"
    }
   },
   "outputs": [
    {
     "name": "stdout",
     "output_type": "stream",
     "text": [
      "initializing Preprocessor\n",
      "initializing Embedder\n",
      "downloading class transfer learning embedder – this may take time, coffee break maybe?\n"
     ]
    }
   ],
   "source": [
    "# initializing instances\n",
    "preprocessor = Preprocessor()\n",
    "embedder = Embedder()\n",
    "predictor = Predictor(preprocessor, embedder)"
   ]
  },
  {
   "cell_type": "code",
   "execution_count": null,
   "metadata": {},
   "outputs": [],
   "source": [
    "text_values = predictor.predict(my_df_meta['full_text'])"
   ]
  },
  {
   "cell_type": "code",
   "execution_count": null,
   "metadata": {},
   "outputs": [],
   "source": [
    "# insert averaging"
   ]
  },
  {
   "cell_type": "code",
   "execution_count": 6,
   "metadata": {
    "ExecuteTime": {
     "end_time": "2020-12-16T20:29:48.993745Z",
     "start_time": "2020-12-16T20:29:48.973627Z"
    }
   },
   "outputs": [],
   "source": [
    "# see if you want to deal with missing cells"
   ]
  },
  {
   "cell_type": "code",
   "execution_count": null,
   "metadata": {},
   "outputs": [],
   "source": []
  }
 ],
 "metadata": {
  "kernelspec": {
   "display_name": "Python 3",
   "language": "python",
   "name": "python3"
  },
  "language_info": {
   "codemirror_mode": {
    "name": "ipython",
    "version": 3
   },
   "file_extension": ".py",
   "mimetype": "text/x-python",
   "name": "python",
   "nbconvert_exporter": "python",
   "pygments_lexer": "ipython3",
   "version": "3.8.5"
  },
  "toc": {
   "base_numbering": 1,
   "nav_menu": {},
   "number_sections": false,
   "sideBar": true,
   "skip_h1_title": false,
   "title_cell": "Table of Contents",
   "title_sidebar": "Contents",
   "toc_cell": false,
   "toc_position": {},
   "toc_section_display": true,
   "toc_window_display": true
  }
 },
 "nbformat": 4,
 "nbformat_minor": 4
}
