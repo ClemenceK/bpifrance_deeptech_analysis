{
 "cells": [
  {
   "cell_type": "code",
   "execution_count": 1,
   "metadata": {
    "ExecuteTime": {
     "end_time": "2020-09-08T15:59:56.783704Z",
     "start_time": "2020-09-08T15:59:55.610704Z"
    }
   },
   "outputs": [],
   "source": [
    "import pandas as pd"
   ]
  },
  {
   "cell_type": "code",
   "execution_count": 2,
   "metadata": {
    "ExecuteTime": {
     "end_time": "2020-09-08T15:59:57.316050Z",
     "start_time": "2020-09-08T15:59:57.178101Z"
    }
   },
   "outputs": [
    {
     "name": "stdout",
     "output_type": "stream",
     "text": [
      "/Users/nicolasrousselet/code/nrslt/bpifrance_deeptech_analysis/notebooks\r\n"
     ]
    }
   ],
   "source": [
    "!pwd"
   ]
  },
  {
   "cell_type": "code",
   "execution_count": 3,
   "metadata": {
    "ExecuteTime": {
     "end_time": "2020-09-08T15:59:57.811505Z",
     "start_time": "2020-09-08T15:59:57.804608Z"
    }
   },
   "outputs": [],
   "source": [
    "csv_path = \"/Users/nicolasrousselet/code/nrslt/bpifrance_deeptech_analysis/\" + \"bpideep/deeptech_df.csv\""
   ]
  },
  {
   "cell_type": "code",
   "execution_count": 4,
   "metadata": {
    "ExecuteTime": {
     "end_time": "2020-09-08T15:59:58.384760Z",
     "start_time": "2020-09-08T15:59:58.367464Z"
    }
   },
   "outputs": [
    {
     "data": {
      "text/plain": [
       "'/Users/nicolasrousselet/code/nrslt/bpifrance_deeptech_analysis/bpideep/deeptech_df.csv'"
      ]
     },
     "execution_count": 4,
     "metadata": {},
     "output_type": "execute_result"
    }
   ],
   "source": [
    "csv_path"
   ]
  },
  {
   "cell_type": "code",
   "execution_count": 5,
   "metadata": {
    "ExecuteTime": {
     "end_time": "2020-09-08T15:59:58.970881Z",
     "start_time": "2020-09-08T15:59:58.860558Z"
    }
   },
   "outputs": [],
   "source": [
    "df = pd.read_csv(csv_path)"
   ]
  },
  {
   "cell_type": "code",
   "execution_count": 6,
   "metadata": {
    "ExecuteTime": {
     "end_time": "2020-09-08T15:59:59.968239Z",
     "start_time": "2020-09-08T15:59:59.925278Z"
    }
   },
   "outputs": [
    {
     "data": {
      "text/html": [
       "<div>\n",
       "<style scoped>\n",
       "    .dataframe tbody tr th:only-of-type {\n",
       "        vertical-align: middle;\n",
       "    }\n",
       "\n",
       "    .dataframe tbody tr th {\n",
       "        vertical-align: top;\n",
       "    }\n",
       "\n",
       "    .dataframe thead th {\n",
       "        text-align: right;\n",
       "    }\n",
       "</style>\n",
       "<table border=\"1\" class=\"dataframe\">\n",
       "  <thead>\n",
       "    <tr style=\"text-align: right;\">\n",
       "      <th></th>\n",
       "      <th>Unnamed: 0</th>\n",
       "      <th>about</th>\n",
       "      <th>achievements</th>\n",
       "      <th>alexa_rank_chart</th>\n",
       "      <th>angellist_url</th>\n",
       "      <th>app_12_months_growth_percentile</th>\n",
       "      <th>app_12_months_growth_relative</th>\n",
       "      <th>app_12_months_growth_unique</th>\n",
       "      <th>app_3_months_growth_percentile</th>\n",
       "      <th>app_3_months_growth_relative</th>\n",
       "      <th>...</th>\n",
       "      <th>total_funding</th>\n",
       "      <th>total_funding_source</th>\n",
       "      <th>traffic</th>\n",
       "      <th>traffic_summary</th>\n",
       "      <th>twitter_favorites_chart</th>\n",
       "      <th>twitter_followers_chart</th>\n",
       "      <th>twitter_tweets_chart</th>\n",
       "      <th>twitter_url</th>\n",
       "      <th>url</th>\n",
       "      <th>website_url</th>\n",
       "    </tr>\n",
       "  </thead>\n",
       "  <tbody>\n",
       "    <tr>\n",
       "      <th>0</th>\n",
       "      <td>0</td>\n",
       "      <td>NaN</td>\n",
       "      <td>[]</td>\n",
       "      <td>[]</td>\n",
       "      <td>NaN</td>\n",
       "      <td>NaN</td>\n",
       "      <td>NaN</td>\n",
       "      <td>NaN</td>\n",
       "      <td>NaN</td>\n",
       "      <td>NaN</td>\n",
       "      <td>...</td>\n",
       "      <td>0.00</td>\n",
       "      <td>0</td>\n",
       "      <td>{'visitors': '659', 'annual_growth': None, 'so...</td>\n",
       "      <td>0.7K</td>\n",
       "      <td>[]</td>\n",
       "      <td>[]</td>\n",
       "      <td>[]</td>\n",
       "      <td>https://twitter.com/4p_pharma</td>\n",
       "      <td>https://app.dealroom.co/companies/4p_pharma</td>\n",
       "      <td>http://4p-pharma.com</td>\n",
       "    </tr>\n",
       "    <tr>\n",
       "      <th>1</th>\n",
       "      <td>1</td>\n",
       "      <td>NaN</td>\n",
       "      <td>[]</td>\n",
       "      <td>[]</td>\n",
       "      <td>NaN</td>\n",
       "      <td>NaN</td>\n",
       "      <td>NaN</td>\n",
       "      <td>NaN</td>\n",
       "      <td>NaN</td>\n",
       "      <td>NaN</td>\n",
       "      <td>...</td>\n",
       "      <td>21.00</td>\n",
       "      <td>21000000</td>\n",
       "      <td>{'visitors': '359', 'annual_growth': None, 'so...</td>\n",
       "      <td>0.4K</td>\n",
       "      <td>[]</td>\n",
       "      <td>[]</td>\n",
       "      <td>[]</td>\n",
       "      <td>https://twitter.com/afyrenbiotech</td>\n",
       "      <td>https://app.dealroom.co/companies/afyren</td>\n",
       "      <td>http://afyren.com/</td>\n",
       "    </tr>\n",
       "    <tr>\n",
       "      <th>2</th>\n",
       "      <td>2</td>\n",
       "      <td>NaN</td>\n",
       "      <td>[]</td>\n",
       "      <td>[{'date': '2017-02-08', 'value': 25266187}, {'...</td>\n",
       "      <td>NaN</td>\n",
       "      <td>NaN</td>\n",
       "      <td>NaN</td>\n",
       "      <td>NaN</td>\n",
       "      <td>NaN</td>\n",
       "      <td>NaN</td>\n",
       "      <td>...</td>\n",
       "      <td>3.30</td>\n",
       "      <td>3300000</td>\n",
       "      <td>{'visitors': '1668', 'annual_growth': None, 's...</td>\n",
       "      <td>2K</td>\n",
       "      <td>[]</td>\n",
       "      <td>[]</td>\n",
       "      <td>[]</td>\n",
       "      <td>https://twitter.com/abbelight</td>\n",
       "      <td>https://app.dealroom.co/companies/abbelight</td>\n",
       "      <td>http://www.abbelight.com</td>\n",
       "    </tr>\n",
       "    <tr>\n",
       "      <th>3</th>\n",
       "      <td>3</td>\n",
       "      <td>NaN</td>\n",
       "      <td>[]</td>\n",
       "      <td>[{'date': '2017-02-08', 'value': 12777606}, {'...</td>\n",
       "      <td>NaN</td>\n",
       "      <td>NaN</td>\n",
       "      <td>NaN</td>\n",
       "      <td>NaN</td>\n",
       "      <td>NaN</td>\n",
       "      <td>NaN</td>\n",
       "      <td>...</td>\n",
       "      <td>29.10</td>\n",
       "      <td>29100000</td>\n",
       "      <td>{'visitors': '283', 'annual_growth': -62.36702...</td>\n",
       "      <td>0.3K</td>\n",
       "      <td>[{'date': '2017-02-08', 'value': 40}, {'date':...</td>\n",
       "      <td>[{'date': '2017-02-08', 'value': 190}, {'date'...</td>\n",
       "      <td>[{'date': '2017-02-08', 'value': 152}, {'date'...</td>\n",
       "      <td>https://twitter.com/acticorbiotech</td>\n",
       "      <td>https://app.dealroom.co/companies/acticor_biotech</td>\n",
       "      <td>http://www.acticor-biotech.com</td>\n",
       "    </tr>\n",
       "    <tr>\n",
       "      <th>4</th>\n",
       "      <td>4</td>\n",
       "      <td>Actronika Skip to content twitter linkedin you...</td>\n",
       "      <td>[]</td>\n",
       "      <td>[{'date': '2016-12-02', 'value': 10936650}, {'...</td>\n",
       "      <td>NaN</td>\n",
       "      <td>NaN</td>\n",
       "      <td>NaN</td>\n",
       "      <td>NaN</td>\n",
       "      <td>NaN</td>\n",
       "      <td>NaN</td>\n",
       "      <td>...</td>\n",
       "      <td>2.52</td>\n",
       "      <td>2522675</td>\n",
       "      <td>{'visitors': '1079', 'annual_growth': None, 's...</td>\n",
       "      <td>1K</td>\n",
       "      <td>[{'date': '2017-09-11', 'value': 65}, {'date':...</td>\n",
       "      <td>[{'date': '2017-09-11', 'value': 88}, {'date':...</td>\n",
       "      <td>[{'date': '2017-09-11', 'value': 56}, {'date':...</td>\n",
       "      <td>https://twitter.com/actronika</td>\n",
       "      <td>https://app.dealroom.co/companies/actronika</td>\n",
       "      <td>http://www.actronika.com</td>\n",
       "    </tr>\n",
       "  </tbody>\n",
       "</table>\n",
       "<p>5 rows × 93 columns</p>\n",
       "</div>"
      ],
      "text/plain": [
       "   Unnamed: 0                                              about achievements  \\\n",
       "0           0                                                NaN           []   \n",
       "1           1                                                NaN           []   \n",
       "2           2                                                NaN           []   \n",
       "3           3                                                NaN           []   \n",
       "4           4  Actronika Skip to content twitter linkedin you...           []   \n",
       "\n",
       "                                    alexa_rank_chart angellist_url  \\\n",
       "0                                                 []           NaN   \n",
       "1                                                 []           NaN   \n",
       "2  [{'date': '2017-02-08', 'value': 25266187}, {'...           NaN   \n",
       "3  [{'date': '2017-02-08', 'value': 12777606}, {'...           NaN   \n",
       "4  [{'date': '2016-12-02', 'value': 10936650}, {'...           NaN   \n",
       "\n",
       "  app_12_months_growth_percentile  app_12_months_growth_relative  \\\n",
       "0                             NaN                            NaN   \n",
       "1                             NaN                            NaN   \n",
       "2                             NaN                            NaN   \n",
       "3                             NaN                            NaN   \n",
       "4                             NaN                            NaN   \n",
       "\n",
       "   app_12_months_growth_unique app_3_months_growth_percentile  \\\n",
       "0                          NaN                            NaN   \n",
       "1                          NaN                            NaN   \n",
       "2                          NaN                            NaN   \n",
       "3                          NaN                            NaN   \n",
       "4                          NaN                            NaN   \n",
       "\n",
       "   app_3_months_growth_relative  ...  total_funding total_funding_source  \\\n",
       "0                           NaN  ...           0.00                    0   \n",
       "1                           NaN  ...          21.00             21000000   \n",
       "2                           NaN  ...           3.30              3300000   \n",
       "3                           NaN  ...          29.10             29100000   \n",
       "4                           NaN  ...           2.52              2522675   \n",
       "\n",
       "                                             traffic  traffic_summary  \\\n",
       "0  {'visitors': '659', 'annual_growth': None, 'so...             0.7K   \n",
       "1  {'visitors': '359', 'annual_growth': None, 'so...             0.4K   \n",
       "2  {'visitors': '1668', 'annual_growth': None, 's...               2K   \n",
       "3  {'visitors': '283', 'annual_growth': -62.36702...             0.3K   \n",
       "4  {'visitors': '1079', 'annual_growth': None, 's...               1K   \n",
       "\n",
       "                             twitter_favorites_chart  \\\n",
       "0                                                 []   \n",
       "1                                                 []   \n",
       "2                                                 []   \n",
       "3  [{'date': '2017-02-08', 'value': 40}, {'date':...   \n",
       "4  [{'date': '2017-09-11', 'value': 65}, {'date':...   \n",
       "\n",
       "                             twitter_followers_chart  \\\n",
       "0                                                 []   \n",
       "1                                                 []   \n",
       "2                                                 []   \n",
       "3  [{'date': '2017-02-08', 'value': 190}, {'date'...   \n",
       "4  [{'date': '2017-09-11', 'value': 88}, {'date':...   \n",
       "\n",
       "                                twitter_tweets_chart  \\\n",
       "0                                                 []   \n",
       "1                                                 []   \n",
       "2                                                 []   \n",
       "3  [{'date': '2017-02-08', 'value': 152}, {'date'...   \n",
       "4  [{'date': '2017-09-11', 'value': 56}, {'date':...   \n",
       "\n",
       "                          twitter_url  \\\n",
       "0       https://twitter.com/4p_pharma   \n",
       "1   https://twitter.com/afyrenbiotech   \n",
       "2       https://twitter.com/abbelight   \n",
       "3  https://twitter.com/acticorbiotech   \n",
       "4       https://twitter.com/actronika   \n",
       "\n",
       "                                                 url  \\\n",
       "0        https://app.dealroom.co/companies/4p_pharma   \n",
       "1           https://app.dealroom.co/companies/afyren   \n",
       "2        https://app.dealroom.co/companies/abbelight   \n",
       "3  https://app.dealroom.co/companies/acticor_biotech   \n",
       "4        https://app.dealroom.co/companies/actronika   \n",
       "\n",
       "                      website_url  \n",
       "0            http://4p-pharma.com  \n",
       "1              http://afyren.com/  \n",
       "2        http://www.abbelight.com  \n",
       "3  http://www.acticor-biotech.com  \n",
       "4        http://www.actronika.com  \n",
       "\n",
       "[5 rows x 93 columns]"
      ]
     },
     "execution_count": 6,
     "metadata": {},
     "output_type": "execute_result"
    }
   ],
   "source": [
    "df.head()"
   ]
  },
  {
   "cell_type": "code",
   "execution_count": 7,
   "metadata": {
    "ExecuteTime": {
     "end_time": "2020-09-08T16:00:01.216414Z",
     "start_time": "2020-09-08T16:00:01.207990Z"
    }
   },
   "outputs": [
    {
     "data": {
      "text/plain": [
       "(455, 93)"
      ]
     },
     "execution_count": 7,
     "metadata": {},
     "output_type": "execute_result"
    }
   ],
   "source": [
    "df.shape"
   ]
  },
  {
   "cell_type": "code",
   "execution_count": 9,
   "metadata": {
    "ExecuteTime": {
     "end_time": "2020-09-08T16:00:12.700259Z",
     "start_time": "2020-09-08T16:00:12.690538Z"
    }
   },
   "outputs": [
    {
     "data": {
      "text/plain": [
       "\"{'items': [{'id': 1598841, 'name': 'Jérémy Pessiot', 'path': 'j_r_my_pessiot', 'type': 'user', 'url': 'https://app.dealroom.co/people/j_r_my_pessiot', 'images': {'32x32': 'https://s3.eu-west-2.amazonaws.com/dealroom-static/null/people-32.png', '74x74': 'https://s3.eu-west-2.amazonaws.com/dealroom-static/null/people-74.png', '100x100': 'https://s3.eu-west-2.amazonaws.com/dealroom-static/null/people-100.png'}, 'backgrounds': [{'id': 13, 'name': 'biology & earth science'}, {'id': 1, 'name': 'technical'}], 'gender': 'male', 'is_serial_founder': False, 'universities': {'items': [{'id': 13565, 'degree': {'id': 7, 'name': 'Doctor', 'years': 9}, 'majors': [{'id': 556, 'name': 'Microbiology'}, {'id': 179, 'name': 'Biological'}], 'year_start': 1980, 'year_end': 2014, 'university': {'id': 1598842, 'name': 'Université Blaise Pascal (Clermont-II) - Clermont-Ferrand', 'path': 'universit_blaise_pascal_clermont_ii_clermont_ferrand', 'type': 'university', 'url': 'https://app.dealroom.co/universities/universit_blaise_pascal_clermont_ii_clermont_ferrand', 'images': {'32x32': 'https://s3.eu-west-2.amazonaws.com/dealroom-static/null/university-32.png', '74x74': 'https://s3.eu-west-2.amazonaws.com/dealroom-static/null/university-74.png', '100x100': 'https://s3.eu-west-2.amazonaws.com/dealroom-static/null/university-100.png'}}}, {'id': 13566, 'degree': {'id': 2, 'name': 'Masters', 'years': 5}, 'majors': [{'id': 556, 'name': 'Microbiology'}], 'year_start': 1980, 'year_end': 2011, 'university': {'id': 1598842, 'name': 'Université Blaise Pascal (Clermont-II) - Clermont-Ferrand', 'path': 'universit_blaise_pascal_clermont_ii_clermont_ferrand', 'type': 'university', 'url': 'https://app.dealroom.co/universities/universit_blaise_pascal_clermont_ii_clermont_ferrand', 'images': {'32x32': 'https://s3.eu-west-2.amazonaws.com/dealroom-static/null/university-32.png', '74x74': 'https://s3.eu-west-2.amazonaws.com/dealroom-static/null/university-74.png', '100x100': 'https://s3.eu-west-2.amazonaws.com/dealroom-static/null/university-100.png'}}}, {'id': 13567, 'degree': None, 'majors': [{'id': 2444, 'name': 'Earth Science'}], 'year_start': 1980, 'year_end': 2006, 'university': {'id': 1598844, 'name': 'Lycée Alain Colas', 'path': 'lyc_e_alain_colas', 'type': 'university', 'url': 'https://app.dealroom.co/universities/lyc_e_alain_colas', 'images': {'32x32': 'https://s3.eu-west-2.amazonaws.com/dealroom-static/null/university-32.png', '74x74': 'https://s3.eu-west-2.amazonaws.com/dealroom-static/null/university-74.png', '100x100': 'https://s3.eu-west-2.amazonaws.com/dealroom-static/null/university-100.png'}}}], 'total': 3}, 'titles': [{'id': 5, 'name': 'CEO'}, {'id': 7, 'name': 'Founder'}, {'id': 574, 'name': 'Chief Innovation Officer'}], 'past': False, 'is_founder': True, 'year_start': 2012, 'year_end': None}, {'id': 1745839, 'name': 'Maxime Cordonnier', 'path': 'maxime_cordonnier', 'type': 'user', 'url': 'https://app.dealroom.co/people/maxime_cordonnier', 'images': {'32x32': 'https://s3.eu-west-2.amazonaws.com/dealroom-static/null/people-32.png', '74x74': 'https://s3.eu-west-2.amazonaws.com/dealroom-static/null/people-74.png', '100x100': 'https://s3.eu-west-2.amazonaws.com/dealroom-static/null/people-100.png'}, 'backgrounds': [], 'gender': None, 'is_serial_founder': False, 'universities': {'items': [], 'total': 0}, 'titles': [], 'past': False, 'is_founder': False, 'year_start': None, 'year_end': None}, {'id': 1747364, 'name': 'Nicolas Sordet', 'path': 'nicolas_sordet', 'type': 'user', 'url': 'https://app.dealroom.co/people/nicolas_sordet', 'images': {'32x32': 'https://s3.eu-west-2.amazonaws.com/dealroom-static/null/people-32.png', '74x74': 'https://s3.eu-west-2.amazonaws.com/dealroom-static/null/people-74.png', '100x100': 'https://s3.eu-west-2.amazonaws.com/dealroom-static/null/people-100.png'}, 'backgrounds': [], 'gender': None, 'is_serial_founder': False, 'universities': {'items': [], 'total': 0}, 'titles': [{'id': 5, 'name': 'CEO'}], 'past': False, 'is_founder': False, 'year_start': 2014, 'year_end': None}], 'total': 3}\""
      ]
     },
     "execution_count": 9,
     "metadata": {},
     "output_type": "execute_result"
    }
   ],
   "source": [
    "df['team'][1]"
   ]
  },
  {
   "cell_type": "code",
   "execution_count": 15,
   "metadata": {
    "ExecuteTime": {
     "end_time": "2020-09-08T16:01:12.520193Z",
     "start_time": "2020-09-08T16:01:12.504551Z"
    }
   },
   "outputs": [
    {
     "data": {
      "text/plain": [
       "[{'id': 1598841,\n",
       "  'name': 'Jérémy Pessiot',\n",
       "  'path': 'j_r_my_pessiot',\n",
       "  'type': 'user',\n",
       "  'url': 'https://app.dealroom.co/people/j_r_my_pessiot',\n",
       "  'images': {'32x32': 'https://s3.eu-west-2.amazonaws.com/dealroom-static/null/people-32.png',\n",
       "   '74x74': 'https://s3.eu-west-2.amazonaws.com/dealroom-static/null/people-74.png',\n",
       "   '100x100': 'https://s3.eu-west-2.amazonaws.com/dealroom-static/null/people-100.png'},\n",
       "  'backgrounds': [{'id': 13, 'name': 'biology & earth science'},\n",
       "   {'id': 1, 'name': 'technical'}],\n",
       "  'gender': 'male',\n",
       "  'is_serial_founder': False,\n",
       "  'universities': {'items': [{'id': 13565,\n",
       "     'degree': {'id': 7, 'name': 'Doctor', 'years': 9},\n",
       "     'majors': [{'id': 556, 'name': 'Microbiology'},\n",
       "      {'id': 179, 'name': 'Biological'}],\n",
       "     'year_start': 1980,\n",
       "     'year_end': 2014,\n",
       "     'university': {'id': 1598842,\n",
       "      'name': 'Université Blaise Pascal (Clermont-II) - Clermont-Ferrand',\n",
       "      'path': 'universit_blaise_pascal_clermont_ii_clermont_ferrand',\n",
       "      'type': 'university',\n",
       "      'url': 'https://app.dealroom.co/universities/universit_blaise_pascal_clermont_ii_clermont_ferrand',\n",
       "      'images': {'32x32': 'https://s3.eu-west-2.amazonaws.com/dealroom-static/null/university-32.png',\n",
       "       '74x74': 'https://s3.eu-west-2.amazonaws.com/dealroom-static/null/university-74.png',\n",
       "       '100x100': 'https://s3.eu-west-2.amazonaws.com/dealroom-static/null/university-100.png'}}},\n",
       "    {'id': 13566,\n",
       "     'degree': {'id': 2, 'name': 'Masters', 'years': 5},\n",
       "     'majors': [{'id': 556, 'name': 'Microbiology'}],\n",
       "     'year_start': 1980,\n",
       "     'year_end': 2011,\n",
       "     'university': {'id': 1598842,\n",
       "      'name': 'Université Blaise Pascal (Clermont-II) - Clermont-Ferrand',\n",
       "      'path': 'universit_blaise_pascal_clermont_ii_clermont_ferrand',\n",
       "      'type': 'university',\n",
       "      'url': 'https://app.dealroom.co/universities/universit_blaise_pascal_clermont_ii_clermont_ferrand',\n",
       "      'images': {'32x32': 'https://s3.eu-west-2.amazonaws.com/dealroom-static/null/university-32.png',\n",
       "       '74x74': 'https://s3.eu-west-2.amazonaws.com/dealroom-static/null/university-74.png',\n",
       "       '100x100': 'https://s3.eu-west-2.amazonaws.com/dealroom-static/null/university-100.png'}}},\n",
       "    {'id': 13567,\n",
       "     'degree': None,\n",
       "     'majors': [{'id': 2444, 'name': 'Earth Science'}],\n",
       "     'year_start': 1980,\n",
       "     'year_end': 2006,\n",
       "     'university': {'id': 1598844,\n",
       "      'name': 'Lycée Alain Colas',\n",
       "      'path': 'lyc_e_alain_colas',\n",
       "      'type': 'university',\n",
       "      'url': 'https://app.dealroom.co/universities/lyc_e_alain_colas',\n",
       "      'images': {'32x32': 'https://s3.eu-west-2.amazonaws.com/dealroom-static/null/university-32.png',\n",
       "       '74x74': 'https://s3.eu-west-2.amazonaws.com/dealroom-static/null/university-74.png',\n",
       "       '100x100': 'https://s3.eu-west-2.amazonaws.com/dealroom-static/null/university-100.png'}}}],\n",
       "   'total': 3},\n",
       "  'titles': [{'id': 5, 'name': 'CEO'},\n",
       "   {'id': 7, 'name': 'Founder'},\n",
       "   {'id': 574, 'name': 'Chief Innovation Officer'}],\n",
       "  'past': False,\n",
       "  'is_founder': True,\n",
       "  'year_start': 2012,\n",
       "  'year_end': None},\n",
       " {'id': 1745839,\n",
       "  'name': 'Maxime Cordonnier',\n",
       "  'path': 'maxime_cordonnier',\n",
       "  'type': 'user',\n",
       "  'url': 'https://app.dealroom.co/people/maxime_cordonnier',\n",
       "  'images': {'32x32': 'https://s3.eu-west-2.amazonaws.com/dealroom-static/null/people-32.png',\n",
       "   '74x74': 'https://s3.eu-west-2.amazonaws.com/dealroom-static/null/people-74.png',\n",
       "   '100x100': 'https://s3.eu-west-2.amazonaws.com/dealroom-static/null/people-100.png'},\n",
       "  'backgrounds': [],\n",
       "  'gender': None,\n",
       "  'is_serial_founder': False,\n",
       "  'universities': {'items': [], 'total': 0},\n",
       "  'titles': [],\n",
       "  'past': False,\n",
       "  'is_founder': False,\n",
       "  'year_start': None,\n",
       "  'year_end': None},\n",
       " {'id': 1747364,\n",
       "  'name': 'Nicolas Sordet',\n",
       "  'path': 'nicolas_sordet',\n",
       "  'type': 'user',\n",
       "  'url': 'https://app.dealroom.co/people/nicolas_sordet',\n",
       "  'images': {'32x32': 'https://s3.eu-west-2.amazonaws.com/dealroom-static/null/people-32.png',\n",
       "   '74x74': 'https://s3.eu-west-2.amazonaws.com/dealroom-static/null/people-74.png',\n",
       "   '100x100': 'https://s3.eu-west-2.amazonaws.com/dealroom-static/null/people-100.png'},\n",
       "  'backgrounds': [],\n",
       "  'gender': None,\n",
       "  'is_serial_founder': False,\n",
       "  'universities': {'items': [], 'total': 0},\n",
       "  'titles': [{'id': 5, 'name': 'CEO'}],\n",
       "  'past': False,\n",
       "  'is_founder': False,\n",
       "  'year_start': 2014,\n",
       "  'year_end': None}]"
      ]
     },
     "execution_count": 15,
     "metadata": {},
     "output_type": "execute_result"
    }
   ],
   "source": [
    "import ast\n",
    "ast.literal_eval(df['team'][1])['items']"
   ]
  },
  {
   "cell_type": "code",
   "execution_count": null,
   "metadata": {},
   "outputs": [],
   "source": []
  }
 ],
 "metadata": {
  "kernelspec": {
   "display_name": "Python 3",
   "language": "python",
   "name": "python3"
  },
  "language_info": {
   "codemirror_mode": {
    "name": "ipython",
    "version": 3
   },
   "file_extension": ".py",
   "mimetype": "text/x-python",
   "name": "python",
   "nbconvert_exporter": "python",
   "pygments_lexer": "ipython3",
   "version": "3.7.7"
  },
  "toc": {
   "base_numbering": 1,
   "nav_menu": {},
   "number_sections": true,
   "sideBar": true,
   "skip_h1_title": false,
   "title_cell": "Table of Contents",
   "title_sidebar": "Contents",
   "toc_cell": false,
   "toc_position": {},
   "toc_section_display": true,
   "toc_window_display": false
  }
 },
 "nbformat": 4,
 "nbformat_minor": 4
}
