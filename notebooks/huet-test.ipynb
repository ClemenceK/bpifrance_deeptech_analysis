{
 "cells": [
  {
   "cell_type": "code",
   "execution_count": 1,
   "metadata": {
    "ExecuteTime": {
     "end_time": "2020-09-08T17:00:55.187087Z",
     "start_time": "2020-09-08T17:00:55.147966Z"
    }
   },
   "outputs": [],
   "source": [
    "%load_ext autoreload\n",
    "%autoreload 2"
   ]
  },
  {
   "cell_type": "markdown",
   "metadata": {},
   "source": [
    "# test de fonctions"
   ]
  },
  {
   "cell_type": "code",
   "execution_count": 43,
   "metadata": {
    "ExecuteTime": {
     "end_time": "2020-09-08T18:26:55.284631Z",
     "start_time": "2020-09-08T18:26:55.176385Z"
    }
   },
   "outputs": [],
   "source": [
    "from bpideep.cleaning import get_data,clean_data"
   ]
  },
  {
   "cell_type": "code",
   "execution_count": 4,
   "metadata": {
    "ExecuteTime": {
     "end_time": "2020-09-08T17:03:23.200009Z",
     "start_time": "2020-09-08T17:03:23.087754Z"
    }
   },
   "outputs": [],
   "source": [
    "data = get_data()"
   ]
  },
  {
   "cell_type": "code",
   "execution_count": 22,
   "metadata": {
    "ExecuteTime": {
     "end_time": "2020-09-08T17:57:50.672258Z",
     "start_time": "2020-09-08T17:57:50.553746Z"
    },
    "collapsed": true
   },
   "outputs": [
    {
     "data": {
      "text/plain": [
       "Unnamed: 0                  0\n",
       "achievements                0\n",
       "alexa_rank_chart            0\n",
       "client_focus                0\n",
       "company_status              0\n",
       "corporate_industries        0\n",
       "employees                  43\n",
       "employees_chart             0\n",
       "employees_latest           62\n",
       "facebook_likes_chart        0\n",
       "fundings                    0\n",
       "growth_stage               22\n",
       "has_strong_founder          0\n",
       "has_super_founder           0\n",
       "hq_locations                0\n",
       "id                          0\n",
       "images                      0\n",
       "income_streams              0\n",
       "industries                  0\n",
       "investors                   0\n",
       "job_openings                0\n",
       "kpi_summary                 0\n",
       "last_funding_source         0\n",
       "last_updated                0\n",
       "last_updated_utc            0\n",
       "launch_year                41\n",
       "linkedin_url               28\n",
       "name                        0\n",
       "ownerships                  0\n",
       "path                        0\n",
       "payments                    0\n",
       "revenues                    0\n",
       "service_industries          0\n",
       "similarweb_chart            0\n",
       "sub_industries              0\n",
       "tagline                    13\n",
       "tags                        0\n",
       "team                        0\n",
       "technologies                0\n",
       "tg_locations                0\n",
       "total_funding               0\n",
       "total_funding_source        0\n",
       "traffic                     0\n",
       "twitter_favorites_chart     0\n",
       "twitter_followers_chart     0\n",
       "twitter_tweets_chart        0\n",
       "url                         0\n",
       "website_url                 1\n",
       "dtype: int64"
      ]
     },
     "execution_count": 22,
     "metadata": {},
     "output_type": "execute_result"
    }
   ],
   "source": [
    "data.isna().sum()[data.isna().sum()<100]"
   ]
  },
  {
   "cell_type": "code",
   "execution_count": 19,
   "metadata": {
    "ExecuteTime": {
     "end_time": "2020-09-08T17:57:02.637431Z",
     "start_time": "2020-09-08T17:57:02.526795Z"
    }
   },
   "outputs": [],
   "source": [
    "col_to_remove = list(data.isna().sum()[data.isna().sum()>100].index)"
   ]
  },
  {
   "cell_type": "code",
   "execution_count": 20,
   "metadata": {
    "ExecuteTime": {
     "end_time": "2020-09-08T17:57:05.888275Z",
     "start_time": "2020-09-08T17:57:05.789502Z"
    }
   },
   "outputs": [],
   "source": [
    "col_to_remove.remove('last_funding')"
   ]
  },
  {
   "cell_type": "code",
   "execution_count": 41,
   "metadata": {
    "ExecuteTime": {
     "end_time": "2020-09-08T18:20:32.955239Z",
     "start_time": "2020-09-08T18:20:32.841961Z"
    }
   },
   "outputs": [],
   "source": [
    "col_to_remove.append('images')"
   ]
  },
  {
   "cell_type": "code",
   "execution_count": 42,
   "metadata": {
    "ExecuteTime": {
     "end_time": "2020-09-08T18:20:33.896476Z",
     "start_time": "2020-09-08T18:20:33.798647Z"
    }
   },
   "outputs": [
    {
     "name": "stdout",
     "output_type": "stream",
     "text": [
      "['about', 'angellist_url', 'app_12_months_growth_percentile', 'app_12_months_growth_relative', 'app_12_months_growth_unique', 'app_3_months_growth_percentile', 'app_3_months_growth_relative', 'app_3_months_growth_unique', 'app_6_months_growth_percentile', 'app_6_months_growth_relative', 'app_6_months_growth_unique', 'appstore_app_id', 'crunchbase_url', 'delivery_method', 'employee_12_months_growth_delta', 'employee_12_months_growth_percentile', 'employee_12_months_growth_relative', 'employee_12_months_growth_unique', 'employee_3_months_growth_delta', 'employee_3_months_growth_percentile', 'employee_3_months_growth_relative', 'employee_3_months_growth_unique', 'employee_6_months_growth_delta', 'employee_6_months_growth_percentile', 'employee_6_months_growth_relative', 'employee_6_months_growth_unique', 'facebook_url', 'google_url', 'launch_month', 'playmarket_app_id', 'similarweb_12_months_growth_delta', 'similarweb_12_months_growth_percentile', 'similarweb_12_months_growth_relative', 'similarweb_12_months_growth_unique', 'similarweb_3_months_growth_delta', 'similarweb_3_months_growth_percentile', 'similarweb_3_months_growth_relative', 'similarweb_3_months_growth_unique', 'similarweb_6_months_growth_delta', 'similarweb_6_months_growth_percentile', 'similarweb_6_months_growth_relative', 'similarweb_6_months_growth_unique', 'traffic_summary', 'twitter_url', 'Unnamed: 0', 'images']\n"
     ]
    }
   ],
   "source": [
    "print(col_to_remove)"
   ]
  },
  {
   "cell_type": "code",
   "execution_count": 40,
   "metadata": {
    "ExecuteTime": {
     "end_time": "2020-09-08T18:18:14.921575Z",
     "start_time": "2020-09-08T18:18:14.819453Z"
    }
   },
   "outputs": [
    {
     "data": {
      "text/plain": [
       "array(['[]', \"['Technology']\", \"['Healthcare']\"], dtype=object)"
      ]
     },
     "execution_count": 40,
     "metadata": {},
     "output_type": "execute_result"
    }
   ],
   "source": [
    "data['corporate_industries'].unique()"
   ]
  },
  {
   "cell_type": "code",
   "execution_count": 30,
   "metadata": {
    "ExecuteTime": {
     "end_time": "2020-09-08T18:05:18.177726Z",
     "start_time": "2020-09-08T18:05:17.826352Z"
    }
   },
   "outputs": [
    {
     "data": {
      "text/html": [
       "<div>\n",
       "<style scoped>\n",
       "    .dataframe tbody tr th:only-of-type {\n",
       "        vertical-align: middle;\n",
       "    }\n",
       "\n",
       "    .dataframe tbody tr th {\n",
       "        vertical-align: top;\n",
       "    }\n",
       "\n",
       "    .dataframe thead th {\n",
       "        text-align: right;\n",
       "    }\n",
       "</style>\n",
       "<table border=\"1\" class=\"dataframe\">\n",
       "  <thead>\n",
       "    <tr style=\"text-align: right;\">\n",
       "      <th></th>\n",
       "      <th>Unnamed: 0</th>\n",
       "      <th>achievements</th>\n",
       "      <th>alexa_rank_chart</th>\n",
       "      <th>client_focus</th>\n",
       "      <th>company_status</th>\n",
       "      <th>corporate_industries</th>\n",
       "      <th>employees</th>\n",
       "      <th>employees_chart</th>\n",
       "      <th>employees_latest</th>\n",
       "      <th>facebook_likes_chart</th>\n",
       "      <th>fundings</th>\n",
       "      <th>growth_stage</th>\n",
       "      <th>has_strong_founder</th>\n",
       "      <th>has_super_founder</th>\n",
       "      <th>hq_locations</th>\n",
       "      <th>id</th>\n",
       "      <th>images</th>\n",
       "      <th>income_streams</th>\n",
       "      <th>industries</th>\n",
       "      <th>investors</th>\n",
       "      <th>job_openings</th>\n",
       "      <th>kpi_summary</th>\n",
       "      <th>last_funding_source</th>\n",
       "      <th>last_updated</th>\n",
       "      <th>last_updated_utc</th>\n",
       "      <th>launch_year</th>\n",
       "      <th>linkedin_url</th>\n",
       "      <th>name</th>\n",
       "      <th>ownerships</th>\n",
       "      <th>path</th>\n",
       "      <th>payments</th>\n",
       "      <th>revenues</th>\n",
       "      <th>service_industries</th>\n",
       "      <th>similarweb_chart</th>\n",
       "      <th>sub_industries</th>\n",
       "      <th>tagline</th>\n",
       "      <th>tags</th>\n",
       "      <th>team</th>\n",
       "      <th>technologies</th>\n",
       "      <th>tg_locations</th>\n",
       "      <th>total_funding</th>\n",
       "      <th>total_funding_source</th>\n",
       "      <th>traffic</th>\n",
       "      <th>twitter_favorites_chart</th>\n",
       "      <th>twitter_followers_chart</th>\n",
       "      <th>twitter_tweets_chart</th>\n",
       "      <th>url</th>\n",
       "      <th>website_url</th>\n",
       "    </tr>\n",
       "  </thead>\n",
       "  <tbody>\n",
       "    <tr>\n",
       "      <th>0</th>\n",
       "      <td>0</td>\n",
       "      <td>[]</td>\n",
       "      <td>[]</td>\n",
       "      <td>['business']</td>\n",
       "      <td>operational</td>\n",
       "      <td>[]</td>\n",
       "      <td>NaN</td>\n",
       "      <td>[]</td>\n",
       "      <td>NaN</td>\n",
       "      <td>[]</td>\n",
       "      <td>{'items': [], 'total': 0}</td>\n",
       "      <td>late growth</td>\n",
       "      <td>False</td>\n",
       "      <td>False</td>\n",
       "      <td>[{'id': 1728764, 'address': 'France, Lille', '...</td>\n",
       "      <td>1743314</td>\n",
       "      <td>{'32x32': 'https://s3-eu-west-1.amazonaws.com/...</td>\n",
       "      <td>['commission']</td>\n",
       "      <td>[{'id': 1254, 'name': 'health'}, {'id': 1264, ...</td>\n",
       "      <td>{'items': [], 'total': 0}</td>\n",
       "      <td>0</td>\n",
       "      <td>{'id': 1782186, 'last_update_date': '2019-09-1...</td>\n",
       "      <td>0</td>\n",
       "      <td>2020-09-01T14:52:16+0100</td>\n",
       "      <td>2020-09-01 13:52:16</td>\n",
       "      <td>2014.0</td>\n",
       "      <td>https://www.linkedin.com/company/4p-pharma</td>\n",
       "      <td>4P Pharma</td>\n",
       "      <td>[]</td>\n",
       "      <td>4p_pharma</td>\n",
       "      <td>[]</td>\n",
       "      <td>[]</td>\n",
       "      <td>[]</td>\n",
       "      <td>[{'date': '2018-11-01', 'value': 0}, {'date': ...</td>\n",
       "      <td>[]</td>\n",
       "      <td>4P-Pharma | Translating Science to Product</td>\n",
       "      <td>['investing', 'risk management']</td>\n",
       "      <td>{'items': [], 'total': 0}</td>\n",
       "      <td>[]</td>\n",
       "      <td>['Worldwide']</td>\n",
       "      <td>0.00</td>\n",
       "      <td>0</td>\n",
       "      <td>{'visitors': '659', 'annual_growth': None, 'so...</td>\n",
       "      <td>[]</td>\n",
       "      <td>[]</td>\n",
       "      <td>[]</td>\n",
       "      <td>https://app.dealroom.co/companies/4p_pharma</td>\n",
       "      <td>http://4p-pharma.com</td>\n",
       "    </tr>\n",
       "    <tr>\n",
       "      <th>1</th>\n",
       "      <td>1</td>\n",
       "      <td>[]</td>\n",
       "      <td>[]</td>\n",
       "      <td>['consumer']</td>\n",
       "      <td>operational</td>\n",
       "      <td>[]</td>\n",
       "      <td>11-50</td>\n",
       "      <td>[{'date': '2020-02-17', 'value': 27}]</td>\n",
       "      <td>27.0</td>\n",
       "      <td>[]</td>\n",
       "      <td>{'items': [{'id': 239735, 'year': 2019, 'month...</td>\n",
       "      <td>early growth</td>\n",
       "      <td>False</td>\n",
       "      <td>False</td>\n",
       "      <td>[{'id': 1759361, 'address': '5 Rue Emile Ducla...</td>\n",
       "      <td>1598607</td>\n",
       "      <td>{'32x32': 'https://s3-eu-west-1.amazonaws.com/...</td>\n",
       "      <td>[]</td>\n",
       "      <td>[{'id': 100023, 'name': 'energy'}]</td>\n",
       "      <td>{'items': [{'id': 17581, 'name': 'Sofinnova Pa...</td>\n",
       "      <td>0</td>\n",
       "      <td>{'id': 125243, 'last_update_date': '2020-07-31...</td>\n",
       "      <td>21000000</td>\n",
       "      <td>2020-09-01T14:51:42+0100</td>\n",
       "      <td>2020-09-01 13:51:42</td>\n",
       "      <td>2012.0</td>\n",
       "      <td>https://www.linkedin.com/company/9419299</td>\n",
       "      <td>AFYREN</td>\n",
       "      <td>[]</td>\n",
       "      <td>afyren</td>\n",
       "      <td>[]</td>\n",
       "      <td>['manufacturing']</td>\n",
       "      <td>[]</td>\n",
       "      <td>[{'date': '2018-02-01', 'value': 0}, {'date': ...</td>\n",
       "      <td>['clean energy', 'waste solution']</td>\n",
       "      <td>A company specialized in microbiology and biop...</td>\n",
       "      <td>['biotechnology', 'sustainable development goa...</td>\n",
       "      <td>{'items': [{'id': 1598841, 'name': 'Jérémy Pes...</td>\n",
       "      <td>[]</td>\n",
       "      <td>['Worldwide']</td>\n",
       "      <td>21.00</td>\n",
       "      <td>21000000</td>\n",
       "      <td>{'visitors': '359', 'annual_growth': None, 'so...</td>\n",
       "      <td>[]</td>\n",
       "      <td>[]</td>\n",
       "      <td>[]</td>\n",
       "      <td>https://app.dealroom.co/companies/afyren</td>\n",
       "      <td>http://afyren.com/</td>\n",
       "    </tr>\n",
       "    <tr>\n",
       "      <th>2</th>\n",
       "      <td>2</td>\n",
       "      <td>[]</td>\n",
       "      <td>[{'date': '2017-02-08', 'value': 25266187}, {'...</td>\n",
       "      <td>['business']</td>\n",
       "      <td>operational</td>\n",
       "      <td>[]</td>\n",
       "      <td>11-50</td>\n",
       "      <td>[{'date': '2020-02-24', 'value': 18}]</td>\n",
       "      <td>18.0</td>\n",
       "      <td>[]</td>\n",
       "      <td>{'items': [{'id': 301677, 'year': 2019, 'month...</td>\n",
       "      <td>early growth</td>\n",
       "      <td>False</td>\n",
       "      <td>False</td>\n",
       "      <td>[{'id': 1797027, 'address': '6 Rue Jean Calvin...</td>\n",
       "      <td>894817</td>\n",
       "      <td>{'32x32': 'https://s3-eu-west-1.amazonaws.com/...</td>\n",
       "      <td>[]</td>\n",
       "      <td>[{'id': 1254, 'name': 'health'}]</td>\n",
       "      <td>{'items': [{'id': 885471, 'name': 'Agoranov', ...</td>\n",
       "      <td>0</td>\n",
       "      <td>{'id': 322106, 'last_update_date': '2020-07-31...</td>\n",
       "      <td>2000000</td>\n",
       "      <td>2020-09-01T14:49:35+0100</td>\n",
       "      <td>2020-09-01 13:49:35</td>\n",
       "      <td>2016.0</td>\n",
       "      <td>https://www.linkedin.com/company/abbelight</td>\n",
       "      <td>Abbelight</td>\n",
       "      <td>['Venture Capital', 'accelerator']</td>\n",
       "      <td>abbelight</td>\n",
       "      <td>[]</td>\n",
       "      <td>['manufacturing']</td>\n",
       "      <td>[]</td>\n",
       "      <td>[{'date': '2016-02-01', 'value': 0}, {'date': ...</td>\n",
       "      <td>['biotechnology', 'medical devices']</td>\n",
       "      <td>Innovative solutions in the field of super-res...</td>\n",
       "      <td>['imaging technology', 'biotechnology', 'eic',...</td>\n",
       "      <td>{'items': [{'id': 1159925, 'name': 'Jean-Bapti...</td>\n",
       "      <td>['big data', 'computer vision', 'deep tech', '...</td>\n",
       "      <td>['Worldwide']</td>\n",
       "      <td>3.30</td>\n",
       "      <td>3300000</td>\n",
       "      <td>{'visitors': '1668', 'annual_growth': None, 's...</td>\n",
       "      <td>[]</td>\n",
       "      <td>[]</td>\n",
       "      <td>[]</td>\n",
       "      <td>https://app.dealroom.co/companies/abbelight</td>\n",
       "      <td>http://www.abbelight.com</td>\n",
       "    </tr>\n",
       "    <tr>\n",
       "      <th>3</th>\n",
       "      <td>3</td>\n",
       "      <td>[]</td>\n",
       "      <td>[{'date': '2017-02-08', 'value': 12777606}, {'...</td>\n",
       "      <td>['business']</td>\n",
       "      <td>operational</td>\n",
       "      <td>[]</td>\n",
       "      <td>11-50</td>\n",
       "      <td>[{'date': '2020-02-24', 'value': 15}]</td>\n",
       "      <td>15.0</td>\n",
       "      <td>[]</td>\n",
       "      <td>{'items': [{'id': 295833, 'year': 2019, 'month...</td>\n",
       "      <td>early growth</td>\n",
       "      <td>False</td>\n",
       "      <td>False</td>\n",
       "      <td>[{'id': 1651865, 'address': 'Hôpital Bichat se...</td>\n",
       "      <td>894818</td>\n",
       "      <td>{'32x32': 'https://s3-eu-west-1.amazonaws.com/...</td>\n",
       "      <td>[]</td>\n",
       "      <td>[{'id': 1254, 'name': 'health'}]</td>\n",
       "      <td>{'items': [{'id': 9985, 'name': 'CapDecisif Ma...</td>\n",
       "      <td>0</td>\n",
       "      <td>{'id': 7092, 'last_update_date': '2020-07-31T1...</td>\n",
       "      <td>7000000</td>\n",
       "      <td>2020-09-01T14:49:35+0100</td>\n",
       "      <td>2020-09-01 13:49:35</td>\n",
       "      <td>2013.0</td>\n",
       "      <td>https://www.linkedin.com/company/acticor-biotech</td>\n",
       "      <td>Acticor biotech</td>\n",
       "      <td>['Venture Capital', 'Crowdfunded', 'accelerator']</td>\n",
       "      <td>acticor_biotech</td>\n",
       "      <td>[]</td>\n",
       "      <td>['manufacturing']</td>\n",
       "      <td>[]</td>\n",
       "      <td>[{'date': '2016-02-01', 'value': 752}, {'date'...</td>\n",
       "      <td>[]</td>\n",
       "      <td>Safe and effective treatment of stroke</td>\n",
       "      <td>['biotechnology', 'stroke', 'neurology', 'drug...</td>\n",
       "      <td>{'items': [{'id': 32065, 'name': 'Joachim Dupo...</td>\n",
       "      <td>[]</td>\n",
       "      <td>['Worldwide']</td>\n",
       "      <td>29.10</td>\n",
       "      <td>29100000</td>\n",
       "      <td>{'visitors': '283', 'annual_growth': -62.36702...</td>\n",
       "      <td>[{'date': '2017-02-08', 'value': 40}, {'date':...</td>\n",
       "      <td>[{'date': '2017-02-08', 'value': 190}, {'date'...</td>\n",
       "      <td>[{'date': '2017-02-08', 'value': 152}, {'date'...</td>\n",
       "      <td>https://app.dealroom.co/companies/acticor_biotech</td>\n",
       "      <td>http://www.acticor-biotech.com</td>\n",
       "    </tr>\n",
       "    <tr>\n",
       "      <th>4</th>\n",
       "      <td>4</td>\n",
       "      <td>[]</td>\n",
       "      <td>[{'date': '2016-12-02', 'value': 10936650}, {'...</td>\n",
       "      <td>['business']</td>\n",
       "      <td>operational</td>\n",
       "      <td>[]</td>\n",
       "      <td>11-50</td>\n",
       "      <td>[{'date': '2019-10-12', 'value': 16}]</td>\n",
       "      <td>16.0</td>\n",
       "      <td>[]</td>\n",
       "      <td>{'items': [{'id': 276990, 'year': 2019, 'month...</td>\n",
       "      <td>early growth</td>\n",
       "      <td>False</td>\n",
       "      <td>False</td>\n",
       "      <td>[{'id': 1651857, 'address': '157 Boulevard Mac...</td>\n",
       "      <td>869601</td>\n",
       "      <td>{'32x32': 'https://s3-eu-west-1.amazonaws.com/...</td>\n",
       "      <td>[]</td>\n",
       "      <td>[{'id': 100147, 'name': 'enterprise software'}]</td>\n",
       "      <td>{'items': [{'id': 16405, 'name': 'Seventure Pa...</td>\n",
       "      <td>0</td>\n",
       "      <td>{'id': 98420, 'last_update_date': '2020-07-31T...</td>\n",
       "      <td>50000</td>\n",
       "      <td>2020-09-01T14:49:28+0100</td>\n",
       "      <td>2020-09-01 13:49:28</td>\n",
       "      <td>2014.0</td>\n",
       "      <td>https://www.linkedin.com/company/10618605</td>\n",
       "      <td>Actronika</td>\n",
       "      <td>['Venture Capital', 'accelerator']</td>\n",
       "      <td>actronika</td>\n",
       "      <td>[]</td>\n",
       "      <td>['manufacturing', 'saas']</td>\n",
       "      <td>[]</td>\n",
       "      <td>[{'date': '2015-06-01', 'value': 0}, {'date': ...</td>\n",
       "      <td>[]</td>\n",
       "      <td>Haptics Technology providing a cutting edge vi...</td>\n",
       "      <td>['medical / healthcare', 'touchscreen', 'human...</td>\n",
       "      <td>{'items': [{'id': 940575, 'name': 'Rafal Pijew...</td>\n",
       "      <td>['deep tech', 'hardware', '3d technology']</td>\n",
       "      <td>['Worldwide']</td>\n",
       "      <td>2.52</td>\n",
       "      <td>2522675</td>\n",
       "      <td>{'visitors': '1079', 'annual_growth': None, 's...</td>\n",
       "      <td>[{'date': '2017-09-11', 'value': 65}, {'date':...</td>\n",
       "      <td>[{'date': '2017-09-11', 'value': 88}, {'date':...</td>\n",
       "      <td>[{'date': '2017-09-11', 'value': 56}, {'date':...</td>\n",
       "      <td>https://app.dealroom.co/companies/actronika</td>\n",
       "      <td>http://www.actronika.com</td>\n",
       "    </tr>\n",
       "  </tbody>\n",
       "</table>\n",
       "</div>"
      ],
      "text/plain": [
       "   Unnamed: 0  ...                     website_url\n",
       "0           0  ...            http://4p-pharma.com\n",
       "1           1  ...              http://afyren.com/\n",
       "2           2  ...        http://www.abbelight.com\n",
       "3           3  ...  http://www.acticor-biotech.com\n",
       "4           4  ...        http://www.actronika.com\n",
       "\n",
       "[5 rows x 48 columns]"
      ]
     },
     "execution_count": 30,
     "metadata": {},
     "output_type": "execute_result"
    }
   ],
   "source": [
    "data.loc[:,data.isna().sum()<100].head()"
   ]
  },
  {
   "cell_type": "code",
   "execution_count": 44,
   "metadata": {
    "ExecuteTime": {
     "end_time": "2020-09-08T18:27:26.768814Z",
     "start_time": "2020-09-08T18:27:26.633627Z"
    }
   },
   "outputs": [
    {
     "data": {
      "text/plain": [
       "(455, 93)"
      ]
     },
     "execution_count": 44,
     "metadata": {},
     "output_type": "execute_result"
    }
   ],
   "source": [
    "data.shape"
   ]
  },
  {
   "cell_type": "code",
   "execution_count": 45,
   "metadata": {
    "ExecuteTime": {
     "end_time": "2020-09-08T18:27:37.075369Z",
     "start_time": "2020-09-08T18:27:36.984104Z"
    }
   },
   "outputs": [],
   "source": [
    "data = clean_data(data)"
   ]
  },
  {
   "cell_type": "code",
   "execution_count": 46,
   "metadata": {
    "ExecuteTime": {
     "end_time": "2020-09-08T18:27:40.385846Z",
     "start_time": "2020-09-08T18:27:40.297082Z"
    }
   },
   "outputs": [
    {
     "data": {
      "text/plain": [
       "(455, 47)"
      ]
     },
     "execution_count": 46,
     "metadata": {},
     "output_type": "execute_result"
    }
   ],
   "source": [
    "data.shape"
   ]
  },
  {
   "cell_type": "code",
   "execution_count": null,
   "metadata": {},
   "outputs": [],
   "source": []
  }
 ],
 "metadata": {
  "kernelspec": {
   "display_name": "Python 3",
   "language": "python",
   "name": "python3"
  },
  "language_info": {
   "codemirror_mode": {
    "name": "ipython",
    "version": 3
   },
   "file_extension": ".py",
   "mimetype": "text/x-python",
   "name": "python",
   "nbconvert_exporter": "python",
   "pygments_lexer": "ipython3",
   "version": "3.7.7"
  },
  "toc": {
   "base_numbering": 1,
   "nav_menu": {},
   "number_sections": false,
   "sideBar": true,
   "skip_h1_title": false,
   "title_cell": "Table of Contents",
   "title_sidebar": "Contents",
   "toc_cell": false,
   "toc_position": {
    "height": "calc(100% - 180px)",
    "left": "10px",
    "top": "150px",
    "width": "182.2px"
   },
   "toc_section_display": true,
   "toc_window_display": true
  },
  "varInspector": {
   "cols": {
    "lenName": 16,
    "lenType": 16,
    "lenVar": 40
   },
   "kernels_config": {
    "python": {
     "delete_cmd_postfix": "",
     "delete_cmd_prefix": "del ",
     "library": "var_list.py",
     "varRefreshCmd": "print(var_dic_list())"
    },
    "r": {
     "delete_cmd_postfix": ") ",
     "delete_cmd_prefix": "rm(",
     "library": "var_list.r",
     "varRefreshCmd": "cat(var_dic_list()) "
    }
   },
   "types_to_exclude": [
    "module",
    "function",
    "builtin_function_or_method",
    "instance",
    "_Feature"
   ],
   "window_display": false
  }
 },
 "nbformat": 4,
 "nbformat_minor": 4
}
