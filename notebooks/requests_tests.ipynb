{
 "cells": [
  {
   "cell_type": "markdown",
   "metadata": {},
   "source": [
    "first API calls"
   ]
  },
  {
   "cell_type": "code",
   "execution_count": 7,
   "metadata": {
    "ExecuteTime": {
     "end_time": "2020-09-07T11:54:58.550313Z",
     "start_time": "2020-09-07T11:54:58.546258Z"
    }
   },
   "outputs": [],
   "source": [
    "import pandas as pd\n",
    "import requests"
   ]
  },
  {
   "cell_type": "markdown",
   "metadata": {},
   "source": [
    "Main API key : "
   ]
  },
  {
   "cell_type": "code",
   "execution_count": 8,
   "metadata": {
    "ExecuteTime": {
     "end_time": "2020-09-07T11:54:59.500378Z",
     "start_time": "2020-09-07T11:54:59.490671Z"
    }
   },
   "outputs": [],
   "source": [
    "# use within 'header'\n",
    "\n",
    "# $http.post('https://api.dealroom.co/api/v1/companies', {\n",
    "#     headers: {\n",
    "#         'X-Dealroom-App-Id': '123123123',\n",
    "#         'X-Requested-With': 'XMLHttpRequest'\n",
    "#     }\n",
    "# });"
   ]
  },
  {
   "cell_type": "code",
   "execution_count": 25,
   "metadata": {
    "ExecuteTime": {
     "end_time": "2020-09-07T12:17:58.135233Z",
     "start_time": "2020-09-07T12:17:57.960048Z"
    }
   },
   "outputs": [],
   "source": [
    "# research by company ID\n",
    "\n",
    "url = 'https://api.dealroom.co/api/v1'\n",
    "\n",
    "response = requests.get(url = f\"{url}/companies/ynsect\",\n",
    "                        auth = ('', ''))"
   ]
  },
  {
   "cell_type": "code",
   "execution_count": 26,
   "metadata": {
    "ExecuteTime": {
     "end_time": "2020-09-07T12:17:58.285870Z",
     "start_time": "2020-09-07T12:17:58.276686Z"
    }
   },
   "outputs": [
    {
     "data": {
      "text/plain": [
       "<Response [200]>"
      ]
     },
     "execution_count": 26,
     "metadata": {},
     "output_type": "execute_result"
    }
   ],
   "source": [
    "response"
   ]
  },
  {
   "cell_type": "code",
   "execution_count": 27,
   "metadata": {
    "ExecuteTime": {
     "end_time": "2020-09-07T12:18:16.347103Z",
     "start_time": "2020-09-07T12:18:16.338687Z"
    }
   },
   "outputs": [
    {
     "data": {
      "text/plain": [
       "{'Date': 'Mon, 07 Sep 2020 12:17:58 GMT', 'Content-Type': 'application/json;charset=utf-8', 'Transfer-Encoding': 'chunked', 'Connection': 'keep-alive', 'Set-Cookie': '__cfduid=d7f52c091a6be36840066fe7cb899d4991599481078; expires=Wed, 07-Oct-20 12:17:58 GMT; path=/; domain=.dealroom.co; HttpOnly; SameSite=Lax', 'Vary': 'Accept-Encoding', 'X-Ratelimit-Limit': '15000', 'X-Ratelimit-Remaining': '14997', 'X-Ratelimit-Reset': '1601642369', 'X-Transaction-Id': '1368b4b9-2f2d-4398-b6d3-0d108c3e0704', 'X-Frame-Options': 'SAMEORIGIN', 'X-Content-Type-Options': 'nosniff', 'X-XSS-Protection': '1; mode=block', 'Content-Encoding': 'gzip', 'CF-Cache-Status': 'DYNAMIC', 'cf-request-id': '050a19791a0000cdb3a531e200000001', 'Expect-CT': 'max-age=604800, report-uri=\"https://report-uri.cloudflare.com/cdn-cgi/beacon/expect-ct\"', 'Server': 'cloudflare', 'CF-RAY': '5cf05ea1cb39cdb3-CDG'}"
      ]
     },
     "execution_count": 27,
     "metadata": {},
     "output_type": "execute_result"
    }
   ],
   "source": [
    "response.headers"
   ]
  },
  {
   "cell_type": "code",
   "execution_count": 28,
   "metadata": {
    "ExecuteTime": {
     "end_time": "2020-09-07T12:18:26.126295Z",
     "start_time": "2020-09-07T12:18:26.117338Z"
    }
   },
   "outputs": [
    {
     "data": {
      "text/plain": [
       "'{\"id\":73598,\"name\":\"Ynsect\",\"path\":\"ynsect\",\"images\":{\"32x32\":\"https:\\\\/\\\\/s3-eu-west-1.amazonaws.com\\\\/dealroom-images\\\\/03\\\\/MzI6MzI6Y29tcGFueUBzMy1ldS13ZXN0LTEuYW1hem9uYXdzLmNvbS9kZWFscm9vbS1pbWFnZXMvMjAxOS8wNC8xNS85NDFhZjMwNDAyZjM1ZjIyYjZhZTgyOTIzOWFhY2YyOQ==.png\",\"74x74\":\"https:\\\\/\\\\/s3-eu-west-1.amazonaws.com\\\\/dealroom-images\\\\/e0\\\\/NzQ6NzQ6Y29tcGFueUBzMy1ldS13ZXN0LTEuYW1hem9uYXdzLmNvbS9kZWFscm9vbS1pbWFnZXMvMjAxOS8wNC8xNS85NDFhZjMwNDAyZjM1ZjIyYjZhZTgyOTIzOWFhY2YyOQ==.png\",\"100x100\":\"https:\\\\/\\\\/s3-eu-west-1.amazonaws.com\\\\/dealroom-images\\\\/5f\\\\/MTAwOjEwMDpjb21wYW55QHMzLWV1LXdlc3QtMS5hbWF6b25hd3MuY29tL2RlYWxyb29tLWltYWdlcy8yMDE5LzA0LzE1Lzk0MWFmMzA0MDJmMzVmMjJiNmFlODI5MjM5YWFjZjI5.png\"},\"tagline\":\"Farms insects to make high-quality, premium natural ingredients for aquaculture and pet nutrition\",\"hq_locations\":[{\"id\":1919493,\"address\":\"1 Rue Pierre Fontaine, 91000 Évry, France\",\"street\":\"Rue Pierre Fontaine\",\"street_number\":\"1\",\"zip\":\"91000\",\"lat\":48.6203347,\"lon\":2.4519417,\"country\":{\"id\":43,\"name\":\"France\",\"lat\":46.227638,\"lon\":2.213749},\"city\":{\"id\":738,\"name\":\"Évry\",\"lat\":48.629828,\"lon\":2.441782},\"continent\":{\"id\":3,\"name\":\"Europe\"},\"is_headquarters\":true,\"is_founding_location\":false}],\"growth_stage\":\"late growth\",\"employees\":\"51-200\",\"traffic_summary\":\"10K\",\"total_funding\":155.14,\"last_updated\":\"2020-09-01T14:48:04+0100\"}'"
      ]
     },
     "execution_count": 28,
     "metadata": {},
     "output_type": "execute_result"
    }
   ],
   "source": [
    "response.text"
   ]
  },
  {
   "cell_type": "code",
   "execution_count": 30,
   "metadata": {
    "ExecuteTime": {
     "end_time": "2020-09-07T12:18:37.139019Z",
     "start_time": "2020-09-07T12:18:37.128365Z"
    },
    "scrolled": true
   },
   "outputs": [
    {
     "data": {
      "text/plain": [
       "{'id': 73598,\n",
       " 'name': 'Ynsect',\n",
       " 'path': 'ynsect',\n",
       " 'images': {'32x32': 'https://s3-eu-west-1.amazonaws.com/dealroom-images/03/MzI6MzI6Y29tcGFueUBzMy1ldS13ZXN0LTEuYW1hem9uYXdzLmNvbS9kZWFscm9vbS1pbWFnZXMvMjAxOS8wNC8xNS85NDFhZjMwNDAyZjM1ZjIyYjZhZTgyOTIzOWFhY2YyOQ==.png',\n",
       "  '74x74': 'https://s3-eu-west-1.amazonaws.com/dealroom-images/e0/NzQ6NzQ6Y29tcGFueUBzMy1ldS13ZXN0LTEuYW1hem9uYXdzLmNvbS9kZWFscm9vbS1pbWFnZXMvMjAxOS8wNC8xNS85NDFhZjMwNDAyZjM1ZjIyYjZhZTgyOTIzOWFhY2YyOQ==.png',\n",
       "  '100x100': 'https://s3-eu-west-1.amazonaws.com/dealroom-images/5f/MTAwOjEwMDpjb21wYW55QHMzLWV1LXdlc3QtMS5hbWF6b25hd3MuY29tL2RlYWxyb29tLWltYWdlcy8yMDE5LzA0LzE1Lzk0MWFmMzA0MDJmMzVmMjJiNmFlODI5MjM5YWFjZjI5.png'},\n",
       " 'tagline': 'Farms insects to make high-quality, premium natural ingredients for aquaculture and pet nutrition',\n",
       " 'hq_locations': [{'id': 1919493,\n",
       "   'address': '1 Rue Pierre Fontaine, 91000 Évry, France',\n",
       "   'street': 'Rue Pierre Fontaine',\n",
       "   'street_number': '1',\n",
       "   'zip': '91000',\n",
       "   'lat': 48.6203347,\n",
       "   'lon': 2.4519417,\n",
       "   'country': {'id': 43, 'name': 'France', 'lat': 46.227638, 'lon': 2.213749},\n",
       "   'city': {'id': 738, 'name': 'Évry', 'lat': 48.629828, 'lon': 2.441782},\n",
       "   'continent': {'id': 3, 'name': 'Europe'},\n",
       "   'is_headquarters': True,\n",
       "   'is_founding_location': False}],\n",
       " 'growth_stage': 'late growth',\n",
       " 'employees': '51-200',\n",
       " 'traffic_summary': '10K',\n",
       " 'total_funding': 155.14,\n",
       " 'last_updated': '2020-09-01T14:48:04+0100'}"
      ]
     },
     "execution_count": 30,
     "metadata": {},
     "output_type": "execute_result"
    }
   ],
   "source": [
    "response.json()"
   ]
  },
  {
   "cell_type": "code",
   "execution_count": 31,
   "metadata": {
    "ExecuteTime": {
     "end_time": "2020-09-07T12:24:46.711210Z",
     "start_time": "2020-09-07T12:24:46.517018Z"
    }
   },
   "outputs": [],
   "source": [
    "# company id request, specifying fields\n",
    "url = 'https://api.dealroom.co/api/v1'\n",
    "fields=\"id,name,path\"\n",
    "company_id = \"ynsect\" # string or numerical id\n",
    "\n",
    "response = requests.get(url = f\"{url}/companies/{company_id}?fields={fields}\",\n",
    "                        auth = ('', ''))"
   ]
  },
  {
   "cell_type": "code",
   "execution_count": 32,
   "metadata": {
    "ExecuteTime": {
     "end_time": "2020-09-07T12:24:51.698519Z",
     "start_time": "2020-09-07T12:24:51.690651Z"
    }
   },
   "outputs": [
    {
     "data": {
      "text/plain": [
       "{'id': 73598, 'name': 'Ynsect', 'path': 'ynsect'}"
      ]
     },
     "execution_count": 32,
     "metadata": {},
     "output_type": "execute_result"
    }
   ],
   "source": [
    "response.json()"
   ]
  },
  {
   "cell_type": "code",
   "execution_count": 33,
   "metadata": {
    "ExecuteTime": {
     "end_time": "2020-09-07T12:27:56.320440Z",
     "start_time": "2020-09-07T12:27:56.146881Z"
    }
   },
   "outputs": [],
   "source": [
    "# batch request\n",
    "url = 'https://api.dealroom.co/api/v1'\n",
    "fields=\"id,name,path\"\n",
    "company_id_list = \"877364,877365\"\n",
    "\n",
    "response = requests.get(url = f\"{url}/companies/batch?ids={company_id_list}&fields={fields}\",\n",
    "                        auth = ('', ''))"
   ]
  },
  {
   "cell_type": "code",
   "execution_count": 34,
   "metadata": {
    "ExecuteTime": {
     "end_time": "2020-09-07T12:28:01.813479Z",
     "start_time": "2020-09-07T12:28:01.803712Z"
    }
   },
   "outputs": [
    {
     "data": {
      "text/plain": [
       "{'items': [{'id': 877364, 'name': 'Alan', 'path': 'alan'},\n",
       "  {'id': 877365, 'name': 'Voogy', 'path': 'voogy'}],\n",
       " 'total': 2}"
      ]
     },
     "execution_count": 34,
     "metadata": {},
     "output_type": "execute_result"
    }
   ],
   "source": [
    "response.json()"
   ]
  },
  {
   "cell_type": "code",
   "execution_count": 37,
   "metadata": {
    "ExecuteTime": {
     "end_time": "2020-09-07T12:42:11.131264Z",
     "start_time": "2020-09-07T12:42:11.111992Z"
    }
   },
   "outputs": [
    {
     "data": {
      "text/html": [
       "<div>\n",
       "<style scoped>\n",
       "    .dataframe tbody tr th:only-of-type {\n",
       "        vertical-align: middle;\n",
       "    }\n",
       "\n",
       "    .dataframe tbody tr th {\n",
       "        vertical-align: top;\n",
       "    }\n",
       "\n",
       "    .dataframe thead th {\n",
       "        text-align: right;\n",
       "    }\n",
       "</style>\n",
       "<table border=\"1\" class=\"dataframe\">\n",
       "  <thead>\n",
       "    <tr style=\"text-align: right;\">\n",
       "      <th></th>\n",
       "      <th>id</th>\n",
       "      <th>name</th>\n",
       "      <th>path</th>\n",
       "    </tr>\n",
       "  </thead>\n",
       "  <tbody>\n",
       "    <tr>\n",
       "      <th>0</th>\n",
       "      <td>877364</td>\n",
       "      <td>Alan</td>\n",
       "      <td>alan</td>\n",
       "    </tr>\n",
       "    <tr>\n",
       "      <th>1</th>\n",
       "      <td>877365</td>\n",
       "      <td>Voogy</td>\n",
       "      <td>voogy</td>\n",
       "    </tr>\n",
       "  </tbody>\n",
       "</table>\n",
       "</div>"
      ],
      "text/plain": [
       "       id   name   path\n",
       "0  877364   Alan   alan\n",
       "1  877365  Voogy  voogy"
      ]
     },
     "execution_count": 37,
     "metadata": {},
     "output_type": "execute_result"
    }
   ],
   "source": [
    "pd.DataFrame(response.json()['items'])"
   ]
  },
  {
   "cell_type": "code",
   "execution_count": null,
   "metadata": {},
   "outputs": [],
   "source": [
    "\n",
    "curl --location --request GET \\\n",
    "  --url 'https://api.dealroom.co/api/v1/companies/batch?ids=877364,877365&fields=id,name,path,images(32x32)' \\\n",
    "  -u '<API_KEY>:' \\\n",
    "  --header 'Content-Type: application/json'\n"
   ]
  }
 ],
 "metadata": {
  "kernelspec": {
   "display_name": "Python 3",
   "language": "python",
   "name": "python3"
  },
  "language_info": {
   "codemirror_mode": {
    "name": "ipython",
    "version": 3
   },
   "file_extension": ".py",
   "mimetype": "text/x-python",
   "name": "python",
   "nbconvert_exporter": "python",
   "pygments_lexer": "ipython3",
   "version": "3.7.7"
  },
  "toc": {
   "base_numbering": 1,
   "nav_menu": {},
   "number_sections": true,
   "sideBar": true,
   "skip_h1_title": false,
   "title_cell": "Table of Contents",
   "title_sidebar": "Contents",
   "toc_cell": false,
   "toc_position": {},
   "toc_section_display": true,
   "toc_window_display": false
  }
 },
 "nbformat": 4,
 "nbformat_minor": 4
}
