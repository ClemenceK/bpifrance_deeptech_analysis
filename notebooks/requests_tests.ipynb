{
 "cells": [
  {
   "cell_type": "markdown",
   "metadata": {},
   "source": [
    "first API calls"
   ]
  },
  {
   "cell_type": "code",
   "execution_count": 7,
   "metadata": {
    "ExecuteTime": {
     "end_time": "2020-09-07T11:54:58.550313Z",
     "start_time": "2020-09-07T11:54:58.546258Z"
    }
   },
   "outputs": [],
   "source": [
    "import pandas as pd\n",
    "import requests"
   ]
  },
  {
   "cell_type": "markdown",
   "metadata": {},
   "source": [
    "Main API key : "
   ]
  },
  {
   "cell_type": "code",
   "execution_count": 8,
   "metadata": {
    "ExecuteTime": {
     "end_time": "2020-09-07T11:54:59.500378Z",
     "start_time": "2020-09-07T11:54:59.490671Z"
    }
   },
   "outputs": [],
   "source": [
    "# use within 'header'\n",
    "\n",
    "# $http.post('https://api.dealroom.co/api/v1/companies', {\n",
    "#     headers: {\n",
    "#         'X-Dealroom-App-Id': '123123123',\n",
    "#         'X-Requested-With': 'XMLHttpRequest'\n",
    "#     }\n",
    "# });"
   ]
  },
  {
   "cell_type": "code",
   "execution_count": 25,
   "metadata": {
    "ExecuteTime": {
     "end_time": "2020-09-07T12:17:58.135233Z",
     "start_time": "2020-09-07T12:17:57.960048Z"
    }
   },
   "outputs": [],
   "source": [
    "# research by company ID\n",
    "\n",
    "url = 'https://api.dealroom.co/api/v1'\n",
    "\n",
    "response = requests.get(url = f\"{url}/companies/ynsect\",\n",
    "                        auth = ('', ''))"
   ]
  },
  {
   "cell_type": "code",
   "execution_count": 26,
   "metadata": {
    "ExecuteTime": {
     "end_time": "2020-09-07T12:17:58.285870Z",
     "start_time": "2020-09-07T12:17:58.276686Z"
    }
   },
   "outputs": [
    {
     "data": {
      "text/plain": [
       "<Response [200]>"
      ]
     },
     "execution_count": 26,
     "metadata": {},
     "output_type": "execute_result"
    }
   ],
   "source": [
    "response"
   ]
  },
  {
   "cell_type": "code",
   "execution_count": 27,
   "metadata": {
    "ExecuteTime": {
     "end_time": "2020-09-07T12:18:16.347103Z",
     "start_time": "2020-09-07T12:18:16.338687Z"
    }
   },
   "outputs": [
    {
     "data": {
      "text/plain": [
       "{'Date': 'Mon, 07 Sep 2020 12:17:58 GMT', 'Content-Type': 'application/json;charset=utf-8', 'Transfer-Encoding': 'chunked', 'Connection': 'keep-alive', 'Set-Cookie': '__cfduid=d7f52c091a6be36840066fe7cb899d4991599481078; expires=Wed, 07-Oct-20 12:17:58 GMT; path=/; domain=.dealroom.co; HttpOnly; SameSite=Lax', 'Vary': 'Accept-Encoding', 'X-Ratelimit-Limit': '15000', 'X-Ratelimit-Remaining': '14997', 'X-Ratelimit-Reset': '1601642369', 'X-Transaction-Id': '1368b4b9-2f2d-4398-b6d3-0d108c3e0704', 'X-Frame-Options': 'SAMEORIGIN', 'X-Content-Type-Options': 'nosniff', 'X-XSS-Protection': '1; mode=block', 'Content-Encoding': 'gzip', 'CF-Cache-Status': 'DYNAMIC', 'cf-request-id': '050a19791a0000cdb3a531e200000001', 'Expect-CT': 'max-age=604800, report-uri=\"https://report-uri.cloudflare.com/cdn-cgi/beacon/expect-ct\"', 'Server': 'cloudflare', 'CF-RAY': '5cf05ea1cb39cdb3-CDG'}"
      ]
     },
     "execution_count": 27,
     "metadata": {},
     "output_type": "execute_result"
    }
   ],
   "source": [
    "response.headers"
   ]
  },
  {
   "cell_type": "code",
   "execution_count": 28,
   "metadata": {
    "ExecuteTime": {
     "end_time": "2020-09-07T12:18:26.126295Z",
     "start_time": "2020-09-07T12:18:26.117338Z"
    }
   },
   "outputs": [
    {
     "data": {
      "text/plain": [
       "'{\"id\":73598,\"name\":\"Ynsect\",\"path\":\"ynsect\",\"images\":{\"32x32\":\"https:\\\\/\\\\/s3-eu-west-1.amazonaws.com\\\\/dealroom-images\\\\/03\\\\/MzI6MzI6Y29tcGFueUBzMy1ldS13ZXN0LTEuYW1hem9uYXdzLmNvbS9kZWFscm9vbS1pbWFnZXMvMjAxOS8wNC8xNS85NDFhZjMwNDAyZjM1ZjIyYjZhZTgyOTIzOWFhY2YyOQ==.png\",\"74x74\":\"https:\\\\/\\\\/s3-eu-west-1.amazonaws.com\\\\/dealroom-images\\\\/e0\\\\/NzQ6NzQ6Y29tcGFueUBzMy1ldS13ZXN0LTEuYW1hem9uYXdzLmNvbS9kZWFscm9vbS1pbWFnZXMvMjAxOS8wNC8xNS85NDFhZjMwNDAyZjM1ZjIyYjZhZTgyOTIzOWFhY2YyOQ==.png\",\"100x100\":\"https:\\\\/\\\\/s3-eu-west-1.amazonaws.com\\\\/dealroom-images\\\\/5f\\\\/MTAwOjEwMDpjb21wYW55QHMzLWV1LXdlc3QtMS5hbWF6b25hd3MuY29tL2RlYWxyb29tLWltYWdlcy8yMDE5LzA0LzE1Lzk0MWFmMzA0MDJmMzVmMjJiNmFlODI5MjM5YWFjZjI5.png\"},\"tagline\":\"Farms insects to make high-quality, premium natural ingredients for aquaculture and pet nutrition\",\"hq_locations\":[{\"id\":1919493,\"address\":\"1 Rue Pierre Fontaine, 91000 Évry, France\",\"street\":\"Rue Pierre Fontaine\",\"street_number\":\"1\",\"zip\":\"91000\",\"lat\":48.6203347,\"lon\":2.4519417,\"country\":{\"id\":43,\"name\":\"France\",\"lat\":46.227638,\"lon\":2.213749},\"city\":{\"id\":738,\"name\":\"Évry\",\"lat\":48.629828,\"lon\":2.441782},\"continent\":{\"id\":3,\"name\":\"Europe\"},\"is_headquarters\":true,\"is_founding_location\":false}],\"growth_stage\":\"late growth\",\"employees\":\"51-200\",\"traffic_summary\":\"10K\",\"total_funding\":155.14,\"last_updated\":\"2020-09-01T14:48:04+0100\"}'"
      ]
     },
     "execution_count": 28,
     "metadata": {},
     "output_type": "execute_result"
    }
   ],
   "source": [
    "response.text"
   ]
  },
  {
   "cell_type": "code",
   "execution_count": 30,
   "metadata": {
    "ExecuteTime": {
     "end_time": "2020-09-07T12:18:37.139019Z",
     "start_time": "2020-09-07T12:18:37.128365Z"
    },
    "scrolled": true
   },
   "outputs": [
    {
     "data": {
      "text/plain": [
       "{'id': 73598,\n",
       " 'name': 'Ynsect',\n",
       " 'path': 'ynsect',\n",
       " 'images': {'32x32': 'https://s3-eu-west-1.amazonaws.com/dealroom-images/03/MzI6MzI6Y29tcGFueUBzMy1ldS13ZXN0LTEuYW1hem9uYXdzLmNvbS9kZWFscm9vbS1pbWFnZXMvMjAxOS8wNC8xNS85NDFhZjMwNDAyZjM1ZjIyYjZhZTgyOTIzOWFhY2YyOQ==.png',\n",
       "  '74x74': 'https://s3-eu-west-1.amazonaws.com/dealroom-images/e0/NzQ6NzQ6Y29tcGFueUBzMy1ldS13ZXN0LTEuYW1hem9uYXdzLmNvbS9kZWFscm9vbS1pbWFnZXMvMjAxOS8wNC8xNS85NDFhZjMwNDAyZjM1ZjIyYjZhZTgyOTIzOWFhY2YyOQ==.png',\n",
       "  '100x100': 'https://s3-eu-west-1.amazonaws.com/dealroom-images/5f/MTAwOjEwMDpjb21wYW55QHMzLWV1LXdlc3QtMS5hbWF6b25hd3MuY29tL2RlYWxyb29tLWltYWdlcy8yMDE5LzA0LzE1Lzk0MWFmMzA0MDJmMzVmMjJiNmFlODI5MjM5YWFjZjI5.png'},\n",
       " 'tagline': 'Farms insects to make high-quality, premium natural ingredients for aquaculture and pet nutrition',\n",
       " 'hq_locations': [{'id': 1919493,\n",
       "   'address': '1 Rue Pierre Fontaine, 91000 Évry, France',\n",
       "   'street': 'Rue Pierre Fontaine',\n",
       "   'street_number': '1',\n",
       "   'zip': '91000',\n",
       "   'lat': 48.6203347,\n",
       "   'lon': 2.4519417,\n",
       "   'country': {'id': 43, 'name': 'France', 'lat': 46.227638, 'lon': 2.213749},\n",
       "   'city': {'id': 738, 'name': 'Évry', 'lat': 48.629828, 'lon': 2.441782},\n",
       "   'continent': {'id': 3, 'name': 'Europe'},\n",
       "   'is_headquarters': True,\n",
       "   'is_founding_location': False}],\n",
       " 'growth_stage': 'late growth',\n",
       " 'employees': '51-200',\n",
       " 'traffic_summary': '10K',\n",
       " 'total_funding': 155.14,\n",
       " 'last_updated': '2020-09-01T14:48:04+0100'}"
      ]
     },
     "execution_count": 30,
     "metadata": {},
     "output_type": "execute_result"
    }
   ],
   "source": [
    "response.json()"
   ]
  },
  {
   "cell_type": "code",
   "execution_count": 31,
   "metadata": {
    "ExecuteTime": {
     "end_time": "2020-09-07T12:24:46.711210Z",
     "start_time": "2020-09-07T12:24:46.517018Z"
    }
   },
   "outputs": [],
   "source": [
    "# company id request, specifying fields\n",
    "url = 'https://api.dealroom.co/api/v1'\n",
    "fields=\"id,name,path\"\n",
    "company_id = \"ynsect\" # string or numerical id\n",
    "\n",
    "response = requests.get(url = f\"{url}/companies/{company_id}?fields={fields}\",\n",
    "                        auth = ('', ''))"
   ]
  },
  {
   "cell_type": "code",
   "execution_count": 32,
   "metadata": {
    "ExecuteTime": {
     "end_time": "2020-09-07T12:24:51.698519Z",
     "start_time": "2020-09-07T12:24:51.690651Z"
    }
   },
   "outputs": [
    {
     "data": {
      "text/plain": [
       "{'id': 73598, 'name': 'Ynsect', 'path': 'ynsect'}"
      ]
     },
     "execution_count": 32,
     "metadata": {},
     "output_type": "execute_result"
    }
   ],
   "source": [
    "response.json()"
   ]
  },
  {
   "cell_type": "code",
   "execution_count": 33,
   "metadata": {
    "ExecuteTime": {
     "end_time": "2020-09-07T12:27:56.320440Z",
     "start_time": "2020-09-07T12:27:56.146881Z"
    }
   },
   "outputs": [],
   "source": [
    "# batch request\n",
    "url = 'https://api.dealroom.co/api/v1'\n",
    "fields=\"id,name,path\"\n",
    "company_id_list = \"877364,877365\"\n",
    "\n",
    "response = requests.get(url = f\"{url}/companies/batch?ids={company_id_list}&fields={fields}\",\n",
    "                        auth = ('', ''))"
   ]
  },
  {
   "cell_type": "code",
   "execution_count": 34,
   "metadata": {
    "ExecuteTime": {
     "end_time": "2020-09-07T12:28:01.813479Z",
     "start_time": "2020-09-07T12:28:01.803712Z"
    }
   },
   "outputs": [
    {
     "data": {
      "text/plain": [
       "{'items': [{'id': 877364, 'name': 'Alan', 'path': 'alan'},\n",
       "  {'id': 877365, 'name': 'Voogy', 'path': 'voogy'}],\n",
       " 'total': 2}"
      ]
     },
     "execution_count": 34,
     "metadata": {},
     "output_type": "execute_result"
    }
   ],
   "source": [
    "response.json()"
   ]
  },
  {
   "cell_type": "code",
   "execution_count": 37,
   "metadata": {
    "ExecuteTime": {
     "end_time": "2020-09-07T12:42:11.131264Z",
     "start_time": "2020-09-07T12:42:11.111992Z"
    }
   },
   "outputs": [
    {
     "data": {
      "text/html": [
       "<div>\n",
       "<style scoped>\n",
       "    .dataframe tbody tr th:only-of-type {\n",
       "        vertical-align: middle;\n",
       "    }\n",
       "\n",
       "    .dataframe tbody tr th {\n",
       "        vertical-align: top;\n",
       "    }\n",
       "\n",
       "    .dataframe thead th {\n",
       "        text-align: right;\n",
       "    }\n",
       "</style>\n",
       "<table border=\"1\" class=\"dataframe\">\n",
       "  <thead>\n",
       "    <tr style=\"text-align: right;\">\n",
       "      <th></th>\n",
       "      <th>id</th>\n",
       "      <th>name</th>\n",
       "      <th>path</th>\n",
       "    </tr>\n",
       "  </thead>\n",
       "  <tbody>\n",
       "    <tr>\n",
       "      <th>0</th>\n",
       "      <td>877364</td>\n",
       "      <td>Alan</td>\n",
       "      <td>alan</td>\n",
       "    </tr>\n",
       "    <tr>\n",
       "      <th>1</th>\n",
       "      <td>877365</td>\n",
       "      <td>Voogy</td>\n",
       "      <td>voogy</td>\n",
       "    </tr>\n",
       "  </tbody>\n",
       "</table>\n",
       "</div>"
      ],
      "text/plain": [
       "       id   name   path\n",
       "0  877364   Alan   alan\n",
       "1  877365  Voogy  voogy"
      ]
     },
     "execution_count": 37,
     "metadata": {},
     "output_type": "execute_result"
    }
   ],
   "source": [
    "pd.DataFrame(response.json()['items'])"
   ]
  },
  {
   "cell_type": "code",
   "execution_count": null,
   "metadata": {},
   "outputs": [],
   "source": [
    "\n",
    "curl --location --request GET \\\n",
    "  --url 'https://api.dealroom.co/api/v1/companies/batch?ids=877364,877365&fields=id,name,path,images(32x32)' \\\n",
    "  -u '<API_KEY>:' \\\n",
    "  --header 'Content-Type: application/json'\n"
   ]
  },
  {
   "cell_type": "code",
   "execution_count": 2,
   "metadata": {
    "ExecuteTime": {
     "end_time": "2020-09-08T12:10:04.389596Z",
     "start_time": "2020-09-08T12:10:04.356003Z"
    }
   },
   "outputs": [],
   "source": [
    "id_deeptech = ['1742681', '1743314', '1598607', '894817', '894818', '869601', '918291', '1479192', \\\n",
    "               '917491', '1767945', '898594', '1618458', '1478165', '1448132', '868613', '1834217', \\\n",
    "               '1862064', '894777', '1811901', '10427', '926638', '1832469', '1832154', '215358', '1748062', \\\n",
    "               '1248545', '923651', '926466', '1768749', '1659868', '969057', '1478179', '929365', '1653849', \\\n",
    "               '969067', '882266', '922798', '894781', '1834218', '1742547', '869272', '870799', '972999', \\\n",
    "               '1748355', '105143', '1534628', '892840', '1248552', '1249456', '1481372', '1834596', '1742934', \\\n",
    "               '1832966', '1248553', '893871', '92747', '1248555', '885328', '1479918', '1710681', '1737286', \\\n",
    "               '892854', '1481524', '864003', '1534604', '1822366', '1834691', '1249119', '1713805', '882193', \\\n",
    "               '209726', '214978', '890785', '1248562', '1448493', '894830', '91590', '1742805', '1478349', \\\n",
    "               '894832', '892999', '1811723', '882712', '969375', '969382', '5741', '1742717', '1743435', \\\n",
    "               '1671952', '1743459', '152475', '26725', '1660267', '1660272', '893908', '1742804', '1482002', \\\n",
    "               '80750', '882362', '1464696', '908243', '892057', '246726', '1478145', '1660280', '1726338', \\\n",
    "               '894836', '1447840', '891522', '1743249', '1660287', '871271', '75147', '922504', '1481313', \\\n",
    "               '867641', '924529', '1477530', '1760854', '898779', '882220', '883351', '1482961', '923252', \\\n",
    "               '79761', '912952', '219699', '175336', '973446', '887072', '887078', '107881', '684226', '1249169', \\\n",
    "               '1534514', '1478971', '883352', '176402', '891149', '1467977', '894840', '1757625', '1482445', \\\n",
    "               '1660326', '1681973', '912521', '865638', '79945', '870800', '899543', '1480957', '910929', \\\n",
    "               '1747861', '969581', '934437', '894843', '1481009', '1845173', '1479403', '1477864', '1660341', \\\n",
    "               '1483348', '972533', '886347', '1447876', '926513', '949071', '1916899', '1478533', '1683450', \\\n",
    "               '971808', '1748070', '1483439', '899642', '15150', '894847', '1770410', '1248581', '945287', \\\n",
    "               '1742642', '1482166', '215720', '223272', '1743539', '1464703', '1448018', '74165', '864349', \\\n",
    "               '1832500', '890893', '1835303', '1248583', '970186', '1479591', '1483187', '964252', '1742415', \\\n",
    "               '1763210', '949075', '922801', '899235', '919643', '934620', '1748046', '882341', '962211', \\\n",
    "               '1248590', '891407', '878017', '1481096', '1749384', '898923', '907124', '1479740', '908268', \\\n",
    "               '970334', '1463646', '1483887', '1863012', '1483767', '1570451', '236178', '192300', '1282203', \\\n",
    "               '970399', '894792', '910027', '1678719', '1483405', '908267', '29346', '29517', '1660444', \\\n",
    "               '915046', '871265', '1660455', '1463191', '1478922', '1662621', '890969', '867275', '1480877', \\\n",
    "               '1682126', '894863', '1483759', '1464697', '912505', '915048', '1249185', '30278', '964378', \\\n",
    "               '1248605', '894864', '882321', '917509', '957469', '932476', '901205', '924717', '894865', \\\n",
    "               '933406', '1682220', '1663020', '1478739', '1248607', '894866', '1480007', '1835897', '1835920', \\\n",
    "               '884528', '901183', '4347', '894049', '868578', '1453384', '1534204', '916310', '232939', '899523', \\\n",
    "               '1458386', '899629', '918221', '879190', '1470706', '1533567', '1749247', '1448086', '1470670', \\\n",
    "               '894872', '17943', '80475', '1843114', '865309', '79872', '970783', '1743410', '1683502', '894875', \\\n",
    "               '926526', '1458342', '1742553', '1743523', '894877', '1448001', '1207707', '1891278', '973456', \\\n",
    "               '1447952', '894885', '973448', '1766929', '892125', '894886', '929369', '904236', '970973', '894887', \\\n",
    "               '1470794', '1832967', '1824723', '1478497', '123212', '892048', '870355', '1718532', '178134', \\\n",
    "               '881334', '971026', '1716372', '80547', '1660610', '26507', '884438', '922557', '79368', \\\n",
    "               '1801336', '1447904', '964131', '1248627', '1464944', '149076', '1792416', '25150', '894891', \\\n",
    "               '894117', '1447767', '899850', '912707', '882318', '964376', '214127', '954481', '894128', \\\n",
    "               '1742618', '4446', '1817217', '1480786', '889727', '926530', '1483152', '1683486', '235434', \\\n",
    "               '918323', '865850', '1447949', '1618472', '1921970', '1481072', '922296', '106109', '34258', \\\n",
    "               '1450040', '1481199', '1534552', '1874723', '1750844', '1481080', '74590', '1479773', '918287', \\\n",
    "               '924979', '1336864', '869595', '894900', '1684449', '894902', '1484181', '951199', '1483033', \\\n",
    "               '1564387', '1458548', '1249189', '884336', '173208', '892803', '1480664', '868952', '1787881', \\\n",
    "               '918101', '232627', '918106', '394802', '927322', '1768769', '863706', '1453123', '131666', \\\n",
    "               '1861947', '1748065', '1248647', '142951', '971488', '863452', '1657821', '1684219', '1742837', \\\n",
    "               '1877911', '903886', '957900', '20397', '1712627', '1460713', '886361', '871270', '1477446', '923458', \\\n",
    "               '1832861', '894815', '915293', '907156', '1248651', '917752', '906637', '1742950', '244261', '892145', \\\n",
    "               '864286', '1748313', '951941', '906875', '959918', '148993', '1834213', '899247', '958374', '1837160', \\\n",
    "               '3388', '899753', '1742705', '923519', '1248656', '73598', '1748291', '79521', '983920', '892715']\n",
    "\n"
   ]
  },
  {
   "cell_type": "code",
   "execution_count": 4,
   "metadata": {
    "ExecuteTime": {
     "end_time": "2020-09-08T12:11:06.956979Z",
     "start_time": "2020-09-08T12:11:06.948271Z"
    }
   },
   "outputs": [
    {
     "data": {
      "text/plain": [
       "456"
      ]
     },
     "execution_count": 4,
     "metadata": {},
     "output_type": "execute_result"
    }
   ],
   "source": [
    "len(id_deeptech)"
   ]
  },
  {
   "cell_type": "code",
   "execution_count": 3,
   "metadata": {
    "ExecuteTime": {
     "end_time": "2020-09-08T12:10:56.215540Z",
     "start_time": "2020-09-08T12:10:55.923678Z"
    }
   },
   "outputs": [
    {
     "data": {
      "text/plain": [
       "array([  0,  50, 100, 150, 200, 250, 300, 350, 400, 450])"
      ]
     },
     "execution_count": 3,
     "metadata": {},
     "output_type": "execute_result"
    }
   ],
   "source": [
    "import numpy as np\n",
    "np.arange(0, len(id_deeptech), 50)"
   ]
  },
  {
   "cell_type": "code",
   "execution_count": 8,
   "metadata": {
    "ExecuteTime": {
     "end_time": "2020-09-08T12:15:04.474295Z",
     "start_time": "2020-09-08T12:15:04.462545Z"
    }
   },
   "outputs": [
    {
     "name": "stdout",
     "output_type": "stream",
     "text": [
      "['1742681', '1743314', '1598607', '894817', '894818', '869601', '918291', '1479192', '917491', '1767945', '898594', '1618458', '1478165', '1448132', '868613', '1834217', '1862064', '894777', '1811901', '10427', '926638', '1832469', '1832154', '215358', '1748062', '1248545', '923651', '926466', '1768749', '1659868', '969057', '1478179', '929365', '1653849', '969067', '882266', '922798', '894781', '1834218', '1742547', '869272', '870799', '972999', '1748355', '105143', '1534628', '892840', '1248552', '1249456', '1481372']\n",
      "50\n",
      "['1834596', '1742934', '1832966', '1248553', '893871', '92747', '1248555', '885328', '1479918', '1710681', '1737286', '892854', '1481524', '864003', '1534604', '1822366', '1834691', '1249119', '1713805', '882193', '209726', '214978', '890785', '1248562', '1448493', '894830', '91590', '1742805', '1478349', '894832', '892999', '1811723', '882712', '969375', '969382', '5741', '1742717', '1743435', '1671952', '1743459', '152475', '26725', '1660267', '1660272', '893908', '1742804', '1482002', '80750', '882362', '1464696']\n",
      "50\n",
      "['908243', '892057', '246726', '1478145', '1660280', '1726338', '894836', '1447840', '891522', '1743249', '1660287', '871271', '75147', '922504', '1481313', '867641', '924529', '1477530', '1760854', '898779', '882220', '883351', '1482961', '923252', '79761', '912952', '219699', '175336', '973446', '887072', '887078', '107881', '684226', '1249169', '1534514', '1478971', '883352', '176402', '891149', '1467977', '894840', '1757625', '1482445', '1660326', '1681973', '912521', '865638', '79945', '870800', '899543']\n",
      "50\n",
      "['1480957', '910929', '1747861', '969581', '934437', '894843', '1481009', '1845173', '1479403', '1477864', '1660341', '1483348', '972533', '886347', '1447876', '926513', '949071', '1916899', '1478533', '1683450', '971808', '1748070', '1483439', '899642', '15150', '894847', '1770410', '1248581', '945287', '1742642', '1482166', '215720', '223272', '1743539', '1464703', '1448018', '74165', '864349', '1832500', '890893', '1835303', '1248583', '970186', '1479591', '1483187', '964252', '1742415', '1763210', '949075', '922801']\n",
      "50\n",
      "['899235', '919643', '934620', '1748046', '882341', '962211', '1248590', '891407', '878017', '1481096', '1749384', '898923', '907124', '1479740', '908268', '970334', '1463646', '1483887', '1863012', '1483767', '1570451', '236178', '192300', '1282203', '970399', '894792', '910027', '1678719', '1483405', '908267', '29346', '29517', '1660444', '915046', '871265', '1660455', '1463191', '1478922', '1662621', '890969', '867275', '1480877', '1682126', '894863', '1483759', '1464697', '912505', '915048', '1249185', '30278']\n",
      "50\n",
      "['964378', '1248605', '894864', '882321', '917509', '957469', '932476', '901205', '924717', '894865', '933406', '1682220', '1663020', '1478739', '1248607', '894866', '1480007', '1835897', '1835920', '884528', '901183', '4347', '894049', '868578', '1453384', '1534204', '916310', '232939', '899523', '1458386', '899629', '918221', '879190', '1470706', '1533567', '1749247', '1448086', '1470670', '894872', '17943', '80475', '1843114', '865309', '79872', '970783', '1743410', '1683502', '894875', '926526', '1458342']\n",
      "50\n",
      "['1742553', '1743523', '894877', '1448001', '1207707', '1891278', '973456', '1447952', '894885', '973448', '1766929', '892125', '894886', '929369', '904236', '970973', '894887', '1470794', '1832967', '1824723', '1478497', '123212', '892048', '870355', '1718532', '178134', '881334', '971026', '1716372', '80547', '1660610', '26507', '884438', '922557', '79368', '1801336', '1447904', '964131', '1248627', '1464944', '149076', '1792416', '25150', '894891', '894117', '1447767', '899850', '912707', '882318', '964376']\n",
      "50\n",
      "['214127', '954481', '894128', '1742618', '4446', '1817217', '1480786', '889727', '926530', '1483152', '1683486', '235434', '918323', '865850', '1447949', '1618472', '1921970', '1481072', '922296', '106109', '34258', '1450040', '1481199', '1534552', '1874723', '1750844', '1481080', '74590', '1479773', '918287', '924979', '1336864', '869595', '894900', '1684449', '894902', '1484181', '951199', '1483033', '1564387', '1458548', '1249189', '884336', '173208', '892803', '1480664', '868952', '1787881', '918101', '232627']\n",
      "50\n",
      "['918106', '394802', '927322', '1768769', '863706', '1453123', '131666', '1861947', '1748065', '1248647', '142951', '971488', '863452', '1657821', '1684219', '1742837', '1877911', '903886', '957900', '20397', '1712627', '1460713', '886361', '871270', '1477446', '923458', '1832861', '894815', '915293', '907156', '1248651', '917752', '906637', '1742950', '244261', '892145', '864286', '1748313', '951941', '906875', '959918', '148993', '1834213', '899247', '958374', '1837160', '3388', '899753', '1742705', '923519']\n",
      "50\n",
      "['1248656', '73598', '1748291', '79521', '983920', '892715']\n",
      "6\n"
     ]
    }
   ],
   "source": [
    "for i in np.arange(0, len(id_deeptech), 50):\n",
    "    if i <= 400:\n",
    "        print(id_deeptech[i:i+50])\n",
    "        print(len(id_deeptech[i:i+50]))\n",
    "    if i == 450:\n",
    "        print(id_deeptech[450:len(id_deeptech)])\n",
    "        print(len(id_deeptech[450:len(id_deeptech)]))"
   ]
  },
  {
   "cell_type": "code",
   "execution_count": 9,
   "metadata": {
    "ExecuteTime": {
     "end_time": "2020-09-08T12:29:30.595920Z",
     "start_time": "2020-09-08T12:29:29.368423Z"
    }
   },
   "outputs": [
    {
     "name": "stdout",
     "output_type": "stream",
     "text": [
      "None\n"
     ]
    },
    {
     "ename": "ImportError",
     "evalue": "cannot import name 'getbatchdata' from 'bpideep.getdata' (/Users/nicolasrousselet/.pyenv/versions/3.7.7/envs/lewagon/lib/python3.7/site-packages/bpideep/getdata.py)",
     "output_type": "error",
     "traceback": [
      "\u001b[0;31m---------------------------------------------------------------------------\u001b[0m",
      "\u001b[0;31mImportError\u001b[0m                               Traceback (most recent call last)",
      "\u001b[0;32m<ipython-input-9-7904c763a9a4>\u001b[0m in \u001b[0;36m<module>\u001b[0;34m\u001b[0m\n\u001b[0;32m----> 1\u001b[0;31m \u001b[0;32mfrom\u001b[0m \u001b[0mbpideep\u001b[0m\u001b[0;34m.\u001b[0m\u001b[0mgetdata\u001b[0m \u001b[0;32mimport\u001b[0m \u001b[0mgetbatchdata\u001b[0m\u001b[0;34m\u001b[0m\u001b[0;34m\u001b[0m\u001b[0m\n\u001b[0m",
      "\u001b[0;31mImportError\u001b[0m: cannot import name 'getbatchdata' from 'bpideep.getdata' (/Users/nicolasrousselet/.pyenv/versions/3.7.7/envs/lewagon/lib/python3.7/site-packages/bpideep/getdata.py)"
     ]
    }
   ],
   "source": [
    "from bpideep.getdata import getbatchdata"
   ]
  },
  {
   "cell_type": "code",
   "execution_count": null,
   "metadata": {},
   "outputs": [],
   "source": []
  }
 ],
 "metadata": {
  "kernelspec": {
   "display_name": "Python 3",
   "language": "python",
   "name": "python3"
  },
  "language_info": {
   "codemirror_mode": {
    "name": "ipython",
    "version": 3
   },
   "file_extension": ".py",
   "mimetype": "text/x-python",
   "name": "python",
   "nbconvert_exporter": "python",
   "pygments_lexer": "ipython3",
   "version": "3.7.7"
  },
  "toc": {
   "base_numbering": 1,
   "nav_menu": {},
   "number_sections": true,
   "sideBar": true,
   "skip_h1_title": false,
   "title_cell": "Table of Contents",
   "title_sidebar": "Contents",
   "toc_cell": false,
   "toc_position": {},
   "toc_section_display": true,
   "toc_window_display": false
  }
 },
 "nbformat": 4,
 "nbformat_minor": 4
}
