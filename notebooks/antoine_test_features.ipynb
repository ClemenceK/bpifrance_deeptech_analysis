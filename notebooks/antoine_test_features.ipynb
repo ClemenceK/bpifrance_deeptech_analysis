{
 "cells": [
  {
   "cell_type": "code",
   "execution_count": null,
   "metadata": {},
   "outputs": [],
   "source": [
    "def funding_amounts_employees(data): \n",
    "    funding = data['total_funding_source']\n",
    "    employees = data['employees_latest']\n",
    "    return funding/employees\n",
    "df['funding_employees_ratio'] = funding_amounts_amployees(df)"
   ]
  },
  {
   "cell_type": "code",
   "execution_count": null,
   "metadata": {},
   "outputs": [],
   "source": [
    "df['has_strong_founder'] = df['has_strong_founder'].apply({True : 1, \n",
    "                                                          False : 0})\n",
    "df['has_super_founder'] = df['has_strong_founder'].apply({True : 1, \n",
    "                                                          False : 0})"
   ]
  },
  {
   "cell_type": "code",
   "execution_count": null,
   "metadata": {},
   "outputs": [],
   "source": [
    "def company_status_num(data):\n",
    "    num_status = data['company_status'].apply({'operationnal' : 5, \n",
    "                                              'fezfzefezfze' : 4})\n",
    "    return num_status\n",
    "df['company_status_num'] = company_status_num(df)"
   ]
  },
  {
   "cell_type": "code",
   "execution_count": null,
   "metadata": {},
   "outputs": [],
   "source": [
    "def facebook_like_company_status(data):\n",
    "    likes_chart = data['facebook_likes_chart']\n",
    "    last_likes = likes_chart[-1]['value']\n",
    "    num_status = df['company_status_num']\n",
    "    return last_likes/num_status\n",
    "df['facebook_like_company_status_ratio'] = facebook_like_company_status(df)"
   ]
  },
  {
   "cell_type": "code",
   "execution_count": null,
   "metadata": {},
   "outputs": [],
   "source": [
    "def twitter_followers_company_status(data):\n",
    "    followers_chart = data['twitter_followers_chart']\n",
    "    last_followers = followers_chart[-1]['value']\n",
    "    num_status = df['company_status_num']\n",
    "    return last_followers/num_status\n",
    "df['twitter_followers_company_status_ratio'] = twitter_followers_company_status(df)"
   ]
  },
  {
   "cell_type": "code",
   "execution_count": null,
   "metadata": {},
   "outputs": [],
   "source": [
    "def alexa_rank_company_status(data):\n",
    "    alexa_chart = data['alexa_rank_chart']\n",
    "    last_rank = alexa_chart[-1]['value']\n",
    "    num_status = data['company_status'].apply({'operationnal' : 5, \n",
    "                                              'fezfzefezfze' : 4})\n",
    "    return last_rank/num_status\n",
    "df['alexa_rank_company_status_ratio'] = alexa_rank_company_status(df)"
   ]
  },
  {
   "cell_type": "code",
   "execution_count": null,
   "metadata": {},
   "outputs": [],
   "source": [
    "def traffic(data):\n",
    "    visitor = data['traffic']['visitor']\n",
    "    return visitor\n",
    "df['visitor'] = traffic(df)"
   ]
  },
  {
   "cell_type": "code",
   "execution_count": null,
   "metadata": {},
   "outputs": [],
   "source": []
  }
 ],
 "metadata": {
  "kernelspec": {
   "display_name": "Python 3",
   "language": "python",
   "name": "python3"
  },
  "language_info": {
   "codemirror_mode": {
    "name": "ipython",
    "version": 3
   },
   "file_extension": ".py",
   "mimetype": "text/x-python",
   "name": "python",
   "nbconvert_exporter": "python",
   "pygments_lexer": "ipython3",
   "version": "3.7.7"
  },
  "toc": {
   "base_numbering": 1,
   "nav_menu": {},
   "number_sections": true,
   "sideBar": true,
   "skip_h1_title": false,
   "title_cell": "Table of Contents",
   "title_sidebar": "Contents",
   "toc_cell": false,
   "toc_position": {},
   "toc_section_display": true,
   "toc_window_display": false
  },
  "varInspector": {
   "cols": {
    "lenName": 16,
    "lenType": 16,
    "lenVar": 40
   },
   "kernels_config": {
    "python": {
     "delete_cmd_postfix": "",
     "delete_cmd_prefix": "del ",
     "library": "var_list.py",
     "varRefreshCmd": "print(var_dic_list())"
    },
    "r": {
     "delete_cmd_postfix": ") ",
     "delete_cmd_prefix": "rm(",
     "library": "var_list.r",
     "varRefreshCmd": "cat(var_dic_list()) "
    }
   },
   "types_to_exclude": [
    "module",
    "function",
    "builtin_function_or_method",
    "instance",
    "_Feature"
   ],
   "window_display": false
  }
 },
 "nbformat": 4,
 "nbformat_minor": 4
}
