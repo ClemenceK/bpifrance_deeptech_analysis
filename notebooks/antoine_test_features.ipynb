{
 "cells": [
  {
   "cell_type": "code",
   "execution_count": 1,
   "metadata": {},
   "outputs": [],
   "source": [
    "%load_ext autoreload\n",
    "%autoreload 2"
   ]
  },
  {
   "cell_type": "code",
   "execution_count": 5,
   "metadata": {},
   "outputs": [],
   "source": [
    "from bpideep.getdata import getfulldata\n",
    "import pandas as pd"
   ]
  },
  {
   "cell_type": "code",
   "execution_count": 13,
   "metadata": {},
   "outputs": [
    {
     "data": {
      "text/html": [
       "<div>\n",
       "<style scoped>\n",
       "    .dataframe tbody tr th:only-of-type {\n",
       "        vertical-align: middle;\n",
       "    }\n",
       "\n",
       "    .dataframe tbody tr th {\n",
       "        vertical-align: top;\n",
       "    }\n",
       "\n",
       "    .dataframe thead th {\n",
       "        text-align: right;\n",
       "    }\n",
       "</style>\n",
       "<table border=\"1\" class=\"dataframe\">\n",
       "  <thead>\n",
       "    <tr style=\"text-align: right;\">\n",
       "      <th></th>\n",
       "      <th>Unnamed: 0</th>\n",
       "      <th>about</th>\n",
       "      <th>achievements</th>\n",
       "      <th>alexa_rank_chart</th>\n",
       "      <th>angellist_url</th>\n",
       "      <th>app_12_months_growth_percentile</th>\n",
       "      <th>app_12_months_growth_relative</th>\n",
       "      <th>app_12_months_growth_unique</th>\n",
       "      <th>app_3_months_growth_percentile</th>\n",
       "      <th>app_3_months_growth_relative</th>\n",
       "      <th>...</th>\n",
       "      <th>total_funding</th>\n",
       "      <th>total_funding_source</th>\n",
       "      <th>traffic</th>\n",
       "      <th>traffic_summary</th>\n",
       "      <th>twitter_favorites_chart</th>\n",
       "      <th>twitter_followers_chart</th>\n",
       "      <th>twitter_tweets_chart</th>\n",
       "      <th>twitter_url</th>\n",
       "      <th>url</th>\n",
       "      <th>website_url</th>\n",
       "    </tr>\n",
       "  </thead>\n",
       "  <tbody>\n",
       "    <tr>\n",
       "      <th>0</th>\n",
       "      <td>0</td>\n",
       "      <td>NaN</td>\n",
       "      <td>[]</td>\n",
       "      <td>[]</td>\n",
       "      <td>NaN</td>\n",
       "      <td>NaN</td>\n",
       "      <td>NaN</td>\n",
       "      <td>NaN</td>\n",
       "      <td>NaN</td>\n",
       "      <td>NaN</td>\n",
       "      <td>...</td>\n",
       "      <td>0.00</td>\n",
       "      <td>0</td>\n",
       "      <td>{'visitors': '659', 'annual_growth': None, 'so...</td>\n",
       "      <td>0.7K</td>\n",
       "      <td>[]</td>\n",
       "      <td>[]</td>\n",
       "      <td>[]</td>\n",
       "      <td>https://twitter.com/4p_pharma</td>\n",
       "      <td>https://app.dealroom.co/companies/4p_pharma</td>\n",
       "      <td>http://4p-pharma.com</td>\n",
       "    </tr>\n",
       "    <tr>\n",
       "      <th>1</th>\n",
       "      <td>1</td>\n",
       "      <td>NaN</td>\n",
       "      <td>[]</td>\n",
       "      <td>[]</td>\n",
       "      <td>NaN</td>\n",
       "      <td>NaN</td>\n",
       "      <td>NaN</td>\n",
       "      <td>NaN</td>\n",
       "      <td>NaN</td>\n",
       "      <td>NaN</td>\n",
       "      <td>...</td>\n",
       "      <td>21.00</td>\n",
       "      <td>21000000</td>\n",
       "      <td>{'visitors': '359', 'annual_growth': None, 'so...</td>\n",
       "      <td>0.4K</td>\n",
       "      <td>[]</td>\n",
       "      <td>[]</td>\n",
       "      <td>[]</td>\n",
       "      <td>https://twitter.com/afyrenbiotech</td>\n",
       "      <td>https://app.dealroom.co/companies/afyren</td>\n",
       "      <td>http://afyren.com/</td>\n",
       "    </tr>\n",
       "    <tr>\n",
       "      <th>2</th>\n",
       "      <td>2</td>\n",
       "      <td>NaN</td>\n",
       "      <td>[]</td>\n",
       "      <td>[{'date': '2017-02-08', 'value': 25266187}, {'...</td>\n",
       "      <td>NaN</td>\n",
       "      <td>NaN</td>\n",
       "      <td>NaN</td>\n",
       "      <td>NaN</td>\n",
       "      <td>NaN</td>\n",
       "      <td>NaN</td>\n",
       "      <td>...</td>\n",
       "      <td>3.30</td>\n",
       "      <td>3300000</td>\n",
       "      <td>{'visitors': '1668', 'annual_growth': None, 's...</td>\n",
       "      <td>2K</td>\n",
       "      <td>[]</td>\n",
       "      <td>[]</td>\n",
       "      <td>[]</td>\n",
       "      <td>https://twitter.com/abbelight</td>\n",
       "      <td>https://app.dealroom.co/companies/abbelight</td>\n",
       "      <td>http://www.abbelight.com</td>\n",
       "    </tr>\n",
       "    <tr>\n",
       "      <th>3</th>\n",
       "      <td>3</td>\n",
       "      <td>NaN</td>\n",
       "      <td>[]</td>\n",
       "      <td>[{'date': '2017-02-08', 'value': 12777606}, {'...</td>\n",
       "      <td>NaN</td>\n",
       "      <td>NaN</td>\n",
       "      <td>NaN</td>\n",
       "      <td>NaN</td>\n",
       "      <td>NaN</td>\n",
       "      <td>NaN</td>\n",
       "      <td>...</td>\n",
       "      <td>29.10</td>\n",
       "      <td>29100000</td>\n",
       "      <td>{'visitors': '283', 'annual_growth': -62.36702...</td>\n",
       "      <td>0.3K</td>\n",
       "      <td>[{'date': '2017-02-08', 'value': 40}, {'date':...</td>\n",
       "      <td>[{'date': '2017-02-08', 'value': 190}, {'date'...</td>\n",
       "      <td>[{'date': '2017-02-08', 'value': 152}, {'date'...</td>\n",
       "      <td>https://twitter.com/acticorbiotech</td>\n",
       "      <td>https://app.dealroom.co/companies/acticor_biotech</td>\n",
       "      <td>http://www.acticor-biotech.com</td>\n",
       "    </tr>\n",
       "    <tr>\n",
       "      <th>4</th>\n",
       "      <td>4</td>\n",
       "      <td>Actronika Skip to content twitter linkedin you...</td>\n",
       "      <td>[]</td>\n",
       "      <td>[{'date': '2016-12-02', 'value': 10936650}, {'...</td>\n",
       "      <td>NaN</td>\n",
       "      <td>NaN</td>\n",
       "      <td>NaN</td>\n",
       "      <td>NaN</td>\n",
       "      <td>NaN</td>\n",
       "      <td>NaN</td>\n",
       "      <td>...</td>\n",
       "      <td>2.52</td>\n",
       "      <td>2522675</td>\n",
       "      <td>{'visitors': '1079', 'annual_growth': None, 's...</td>\n",
       "      <td>1K</td>\n",
       "      <td>[{'date': '2017-09-11', 'value': 65}, {'date':...</td>\n",
       "      <td>[{'date': '2017-09-11', 'value': 88}, {'date':...</td>\n",
       "      <td>[{'date': '2017-09-11', 'value': 56}, {'date':...</td>\n",
       "      <td>https://twitter.com/actronika</td>\n",
       "      <td>https://app.dealroom.co/companies/actronika</td>\n",
       "      <td>http://www.actronika.com</td>\n",
       "    </tr>\n",
       "  </tbody>\n",
       "</table>\n",
       "<p>5 rows × 93 columns</p>\n",
       "</div>"
      ],
      "text/plain": [
       "   Unnamed: 0                                              about achievements  \\\n",
       "0           0                                                NaN           []   \n",
       "1           1                                                NaN           []   \n",
       "2           2                                                NaN           []   \n",
       "3           3                                                NaN           []   \n",
       "4           4  Actronika Skip to content twitter linkedin you...           []   \n",
       "\n",
       "                                    alexa_rank_chart angellist_url  \\\n",
       "0                                                 []           NaN   \n",
       "1                                                 []           NaN   \n",
       "2  [{'date': '2017-02-08', 'value': 25266187}, {'...           NaN   \n",
       "3  [{'date': '2017-02-08', 'value': 12777606}, {'...           NaN   \n",
       "4  [{'date': '2016-12-02', 'value': 10936650}, {'...           NaN   \n",
       "\n",
       "  app_12_months_growth_percentile  app_12_months_growth_relative  \\\n",
       "0                             NaN                            NaN   \n",
       "1                             NaN                            NaN   \n",
       "2                             NaN                            NaN   \n",
       "3                             NaN                            NaN   \n",
       "4                             NaN                            NaN   \n",
       "\n",
       "   app_12_months_growth_unique app_3_months_growth_percentile  \\\n",
       "0                          NaN                            NaN   \n",
       "1                          NaN                            NaN   \n",
       "2                          NaN                            NaN   \n",
       "3                          NaN                            NaN   \n",
       "4                          NaN                            NaN   \n",
       "\n",
       "   app_3_months_growth_relative  ...  total_funding total_funding_source  \\\n",
       "0                           NaN  ...           0.00                    0   \n",
       "1                           NaN  ...          21.00             21000000   \n",
       "2                           NaN  ...           3.30              3300000   \n",
       "3                           NaN  ...          29.10             29100000   \n",
       "4                           NaN  ...           2.52              2522675   \n",
       "\n",
       "                                             traffic  traffic_summary  \\\n",
       "0  {'visitors': '659', 'annual_growth': None, 'so...             0.7K   \n",
       "1  {'visitors': '359', 'annual_growth': None, 'so...             0.4K   \n",
       "2  {'visitors': '1668', 'annual_growth': None, 's...               2K   \n",
       "3  {'visitors': '283', 'annual_growth': -62.36702...             0.3K   \n",
       "4  {'visitors': '1079', 'annual_growth': None, 's...               1K   \n",
       "\n",
       "                             twitter_favorites_chart  \\\n",
       "0                                                 []   \n",
       "1                                                 []   \n",
       "2                                                 []   \n",
       "3  [{'date': '2017-02-08', 'value': 40}, {'date':...   \n",
       "4  [{'date': '2017-09-11', 'value': 65}, {'date':...   \n",
       "\n",
       "                             twitter_followers_chart  \\\n",
       "0                                                 []   \n",
       "1                                                 []   \n",
       "2                                                 []   \n",
       "3  [{'date': '2017-02-08', 'value': 190}, {'date'...   \n",
       "4  [{'date': '2017-09-11', 'value': 88}, {'date':...   \n",
       "\n",
       "                                twitter_tweets_chart  \\\n",
       "0                                                 []   \n",
       "1                                                 []   \n",
       "2                                                 []   \n",
       "3  [{'date': '2017-02-08', 'value': 152}, {'date'...   \n",
       "4  [{'date': '2017-09-11', 'value': 56}, {'date':...   \n",
       "\n",
       "                          twitter_url  \\\n",
       "0       https://twitter.com/4p_pharma   \n",
       "1   https://twitter.com/afyrenbiotech   \n",
       "2       https://twitter.com/abbelight   \n",
       "3  https://twitter.com/acticorbiotech   \n",
       "4       https://twitter.com/actronika   \n",
       "\n",
       "                                                 url  \\\n",
       "0        https://app.dealroom.co/companies/4p_pharma   \n",
       "1           https://app.dealroom.co/companies/afyren   \n",
       "2        https://app.dealroom.co/companies/abbelight   \n",
       "3  https://app.dealroom.co/companies/acticor_biotech   \n",
       "4        https://app.dealroom.co/companies/actronika   \n",
       "\n",
       "                      website_url  \n",
       "0            http://4p-pharma.com  \n",
       "1              http://afyren.com/  \n",
       "2        http://www.abbelight.com  \n",
       "3  http://www.acticor-biotech.com  \n",
       "4        http://www.actronika.com  \n",
       "\n",
       "[5 rows x 93 columns]"
      ]
     },
     "execution_count": 13,
     "metadata": {},
     "output_type": "execute_result"
    }
   ],
   "source": [
    "data = pd.read_csv('../bpideep/deeptech_df.csv')\n",
    "data.head()"
   ]
  },
  {
   "cell_type": "code",
   "execution_count": 90,
   "metadata": {},
   "outputs": [
    {
     "data": {
      "text/plain": [
       "(455, 93)"
      ]
     },
     "execution_count": 90,
     "metadata": {},
     "output_type": "execute_result"
    }
   ],
   "source": [
    "data.shape"
   ]
  },
  {
   "cell_type": "code",
   "execution_count": 50,
   "metadata": {},
   "outputs": [],
   "source": [
    "import ast\n",
    "team = ast.literal_eval(data['team'][1])['items']\n"
   ]
  },
  {
   "cell_type": "code",
   "execution_count": 110,
   "metadata": {},
   "outputs": [
    {
     "data": {
      "text/plain": [
       "[{'id': 13565,\n",
       "  'degree': {'id': 7, 'name': 'Doctor', 'years': 9},\n",
       "  'majors': [{'id': 556, 'name': 'Microbiology'},\n",
       "   {'id': 179, 'name': 'Biological'}],\n",
       "  'year_start': 1980,\n",
       "  'year_end': 2014,\n",
       "  'university': {'id': 1598842,\n",
       "   'name': 'Université Blaise Pascal (Clermont-II) - Clermont-Ferrand',\n",
       "   'path': 'universit_blaise_pascal_clermont_ii_clermont_ferrand',\n",
       "   'type': 'university',\n",
       "   'url': 'https://app.dealroom.co/universities/universit_blaise_pascal_clermont_ii_clermont_ferrand',\n",
       "   'images': {'32x32': 'https://s3.eu-west-2.amazonaws.com/dealroom-static/null/university-32.png',\n",
       "    '74x74': 'https://s3.eu-west-2.amazonaws.com/dealroom-static/null/university-74.png',\n",
       "    '100x100': 'https://s3.eu-west-2.amazonaws.com/dealroom-static/null/university-100.png'}}},\n",
       " {'id': 13566,\n",
       "  'degree': {'id': 2, 'name': 'Masters', 'years': 5},\n",
       "  'majors': [{'id': 556, 'name': 'Microbiology'}],\n",
       "  'year_start': 1980,\n",
       "  'year_end': 2011,\n",
       "  'university': {'id': 1598842,\n",
       "   'name': 'Université Blaise Pascal (Clermont-II) - Clermont-Ferrand',\n",
       "   'path': 'universit_blaise_pascal_clermont_ii_clermont_ferrand',\n",
       "   'type': 'university',\n",
       "   'url': 'https://app.dealroom.co/universities/universit_blaise_pascal_clermont_ii_clermont_ferrand',\n",
       "   'images': {'32x32': 'https://s3.eu-west-2.amazonaws.com/dealroom-static/null/university-32.png',\n",
       "    '74x74': 'https://s3.eu-west-2.amazonaws.com/dealroom-static/null/university-74.png',\n",
       "    '100x100': 'https://s3.eu-west-2.amazonaws.com/dealroom-static/null/university-100.png'}}},\n",
       " {'id': 13567,\n",
       "  'degree': None,\n",
       "  'majors': [{'id': 2444, 'name': 'Earth Science'}],\n",
       "  'year_start': 1980,\n",
       "  'year_end': 2006,\n",
       "  'university': {'id': 1598844,\n",
       "   'name': 'Lycée Alain Colas',\n",
       "   'path': 'lyc_e_alain_colas',\n",
       "   'type': 'university',\n",
       "   'url': 'https://app.dealroom.co/universities/lyc_e_alain_colas',\n",
       "   'images': {'32x32': 'https://s3.eu-west-2.amazonaws.com/dealroom-static/null/university-32.png',\n",
       "    '74x74': 'https://s3.eu-west-2.amazonaws.com/dealroom-static/null/university-74.png',\n",
       "    '100x100': 'https://s3.eu-west-2.amazonaws.com/dealroom-static/null/university-100.png'}}}]"
      ]
     },
     "execution_count": 110,
     "metadata": {},
     "output_type": "execute_result"
    }
   ],
   "source": [
    "team = ast.literal_eval(data['team'][1])['items']\n",
    "universities = team[0]['universities']['items']\n",
    "#universities[0]['degree']['name']\n",
    "universities"
   ]
  },
  {
   "cell_type": "code",
   "execution_count": 87,
   "metadata": {},
   "outputs": [],
   "source": [
    "def background(data) :\n",
    "    team_backgrounds = {}\n",
    "    for x in range(455):\n",
    "        backgrounds_list = []\n",
    "        team = ast.literal_eval(data['team'][x])\n",
    "        for y in range(len(team['items'])):\n",
    "                backgrounds= team['items'][y]['backgrounds']\n",
    "                for u in range(len(backgrounds)):\n",
    "                    backgrounds_list.append(backgrounds[u]['name'])                                \n",
    "        team_backgrounds[x] = backgrounds_list\n",
    "    return team_backgrounds\n",
    "data['background'] = background(data)"
   ]
  },
  {
   "cell_type": "code",
   "execution_count": 238,
   "metadata": {},
   "outputs": [],
   "source": [
    "def degree(data) :\n",
    "    team_degree = {}\n",
    "    for x in range(455):\n",
    "        degree_list = []\n",
    "        team = ast.literal_eval(data['team'][x])\n",
    "        for y in range(len(team['items'])):\n",
    "                universities= team['items'][y]['universities']['items']\n",
    "                if universities and universities[0]['degree'] is not None :\n",
    "                    degree = universities[0]['degree']['name']\n",
    "                    degree_list.append(degree)\n",
    "        team_degree[x] = degree_list\n",
    "    return team_degree\n",
    "data['degree'] = degree(data)"
   ]
  },
  {
   "cell_type": "code",
   "execution_count": null,
   "metadata": {},
   "outputs": [],
   "source": []
  },
  {
   "cell_type": "code",
   "execution_count": 209,
   "metadata": {},
   "outputs": [],
   "source": []
  },
  {
   "cell_type": "code",
   "execution_count": 232,
   "metadata": {},
   "outputs": [],
   "source": []
  },
  {
   "cell_type": "code",
   "execution_count": null,
   "metadata": {},
   "outputs": [],
   "source": []
  },
  {
   "cell_type": "code",
   "execution_count": null,
   "metadata": {},
   "outputs": [],
   "source": []
  },
  {
   "cell_type": "code",
   "execution_count": null,
   "metadata": {},
   "outputs": [],
   "source": [
    "\n"
   ]
  },
  {
   "cell_type": "code",
   "execution_count": null,
   "metadata": {},
   "outputs": [],
   "source": [
    "def funding_amounts_employees(data): \n",
    "    funding = data['total_funding_source']\n",
    "    employees = data['employees_latest']\n",
    "    return funding/employees\n",
    "df['funding_employees_ratio'] = funding_amounts_amployees(df)"
   ]
  },
  {
   "cell_type": "code",
   "execution_count": null,
   "metadata": {},
   "outputs": [],
   "source": [
    "df['has_strong_founder'] = df['has_strong_founder'].apply({True : 1, \n",
    "                                                          False : 0})\n",
    "df['has_super_founder'] = df['has_strong_founder'].apply({True : 1, \n",
    "                                                          False : 0})"
   ]
  },
  {
   "cell_type": "code",
   "execution_count": null,
   "metadata": {},
   "outputs": [],
   "source": [
    "def company_status_num(data):\n",
    "    num_status = data['company_status'].apply({'operationnal' : 5, \n",
    "                                              'fezfzefezfze' : 4})\n",
    "    return num_status\n",
    "df['company_status_num'] = company_status_num(df)"
   ]
  },
  {
   "cell_type": "code",
   "execution_count": null,
   "metadata": {},
   "outputs": [],
   "source": [
    "def facebook_like_company_status(data):\n",
    "    likes_chart = data['facebook_likes_chart']\n",
    "    last_likes = likes_chart[-1]['value']\n",
    "    num_status = df['company_status_num']\n",
    "    return last_likes/num_status\n",
    "df['facebook_like_company_status_ratio'] = facebook_like_company_status(df)"
   ]
  },
  {
   "cell_type": "code",
   "execution_count": null,
   "metadata": {},
   "outputs": [],
   "source": [
    "def twitter_followers_company_status(data):\n",
    "    followers_chart = data['twitter_followers_chart']\n",
    "    last_followers = followers_chart[-1]['value']\n",
    "    num_status = df['company_status_num']\n",
    "    return last_followers/num_status\n",
    "df['twitter_followers_company_status_ratio'] = twitter_followers_company_status(df)"
   ]
  },
  {
   "cell_type": "code",
   "execution_count": null,
   "metadata": {},
   "outputs": [],
   "source": [
    "def alexa_rank_company_status(data):\n",
    "    alexa_chart = data['alexa_rank_chart']\n",
    "    last_rank = alexa_chart[-1]['value']\n",
    "    num_status = data['company_status'].apply({'operationnal' : 5, \n",
    "                                              'fezfzefezfze' : 4})\n",
    "    return last_rank/num_status\n",
    "df['alexa_rank_company_status_ratio'] = alexa_rank_company_status(df)"
   ]
  },
  {
   "cell_type": "code",
   "execution_count": null,
   "metadata": {},
   "outputs": [],
   "source": [
    "def traffic(data):\n",
    "    visitor = data['traffic']['visitor']\n",
    "    return visitor\n",
    "df['visitor'] = traffic(df)"
   ]
  },
  {
   "cell_type": "code",
   "execution_count": null,
   "metadata": {},
   "outputs": [],
   "source": []
  }
 ],
 "metadata": {
  "kernelspec": {
   "display_name": "Python 3",
   "language": "python",
   "name": "python3"
  },
  "language_info": {
   "codemirror_mode": {
    "name": "ipython",
    "version": 3
   },
   "file_extension": ".py",
   "mimetype": "text/x-python",
   "name": "python",
   "nbconvert_exporter": "python",
   "pygments_lexer": "ipython3",
   "version": "3.7.7"
  },
  "toc": {
   "base_numbering": 1,
   "nav_menu": {},
   "number_sections": true,
   "sideBar": true,
   "skip_h1_title": false,
   "title_cell": "Table of Contents",
   "title_sidebar": "Contents",
   "toc_cell": false,
   "toc_position": {},
   "toc_section_display": true,
   "toc_window_display": false
  },
  "varInspector": {
   "cols": {
    "lenName": 16,
    "lenType": 16,
    "lenVar": 40
   },
   "kernels_config": {
    "python": {
     "delete_cmd_postfix": "",
     "delete_cmd_prefix": "del ",
     "library": "var_list.py",
     "varRefreshCmd": "print(var_dic_list())"
    },
    "r": {
     "delete_cmd_postfix": ") ",
     "delete_cmd_prefix": "rm(",
     "library": "var_list.r",
     "varRefreshCmd": "cat(var_dic_list()) "
    }
   },
   "types_to_exclude": [
    "module",
    "function",
    "builtin_function_or_method",
    "instance",
    "_Feature"
   ],
   "window_display": false
  }
 },
 "nbformat": 4,
 "nbformat_minor": 4
}
