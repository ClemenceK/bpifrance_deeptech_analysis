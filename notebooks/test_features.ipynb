{
 "cells": [
  {
   "cell_type": "code",
   "execution_count": 1,
   "metadata": {
    "ExecuteTime": {
     "end_time": "2020-09-08T13:10:09.253221Z",
     "start_time": "2020-09-08T13:10:09.216785Z"
    }
   },
   "outputs": [],
   "source": [
    "%load_ext autoreload\n",
    "%autoreload 2"
   ]
  },
  {
   "cell_type": "code",
   "execution_count": 2,
   "metadata": {
    "ExecuteTime": {
     "end_time": "2020-09-08T13:10:11.323709Z",
     "start_time": "2020-09-08T13:10:10.003649Z"
    }
   },
   "outputs": [],
   "source": [
    "import pandas as pd\n",
    "import requests"
   ]
  },
  {
   "cell_type": "code",
   "execution_count": 3,
   "metadata": {
    "ExecuteTime": {
     "end_time": "2020-09-08T13:10:11.374687Z",
     "start_time": "2020-09-08T13:10:11.327485Z"
    }
   },
   "outputs": [],
   "source": [
    "from bpideep.getdata import getbatchdata"
   ]
  },
  {
   "cell_type": "code",
   "execution_count": 4,
   "metadata": {
    "ExecuteTime": {
     "end_time": "2020-09-08T13:10:12.519420Z",
     "start_time": "2020-09-08T13:10:12.488595Z"
    }
   },
   "outputs": [],
   "source": [
    "fields = 'id,name,path,tagline,about,url,website_url,twitter_url,facebook_url,linkedin_url,google_url,crunchbase_url,angellist_url,playmarket_app_id,appstore_app_id,images,employees,employees_latest,industries,sub_industries,corporate_industries,service_industries,technologies,income_streams,growth_stage,traffic_summary,hq_locations,tg_locations,client_focus,revenues,tags,ownerships,payments,achievements,delivery_method,launch_year,launch_month,has_strong_founder,has_super_founder,total_funding,total_funding_source,last_funding,last_funding_source,company_status,last_updated,last_updated_utc,facebook_likes_chart,alexa_rank_chart,twitter_tweets_chart,twitter_followers_chart,twitter_favorites_chart,employees_chart,similarweb_3_months_growth_unique,similarweb_3_months_growth_percentile,similarweb_3_months_growth_relative,similarweb_3_months_growth_delta,similarweb_6_months_growth_unique,similarweb_6_months_growth_percentile,similarweb_6_months_growth_relative,similarweb_6_months_growth_delta,similarweb_12_months_growth_unique,similarweb_12_months_growth_percentile,similarweb_12_months_growth_relative,similarweb_12_months_growth_delta,app_3_months_growth_unique,app_3_months_growth_percentile,app_3_months_growth_relative,app_6_months_growth_unique,app_6_months_growth_percentile,app_6_months_growth_relative,app_12_months_growth_unique,app_12_months_growth_percentile,app_12_months_growth_relative,employee_3_months_growth_unique,employee_3_months_growth_percentile,employee_3_months_growth_relative,employee_3_months_growth_delta,employee_6_months_growth_unique,employee_6_months_growth_percentile,employee_6_months_growth_relative,employee_6_months_growth_delta,employee_12_months_growth_unique,employee_12_months_growth_percentile,employee_12_months_growth_relative,employee_12_months_growth_delta,kpi_summary,team,investors,fundings,traffic,similarweb_chart,job_openings'\n",
    "          "
   ]
  },
  {
   "cell_type": "code",
   "execution_count": 5,
   "metadata": {
    "ExecuteTime": {
     "end_time": "2020-09-08T13:10:12.886524Z",
     "start_time": "2020-09-08T13:10:12.854215Z"
    }
   },
   "outputs": [],
   "source": [
    "#company_id_list = 'ynsect,cailabs,ledger'"
   ]
  },
  {
   "cell_type": "code",
   "execution_count": 6,
   "metadata": {
    "ExecuteTime": {
     "end_time": "2020-09-08T13:10:13.083221Z",
     "start_time": "2020-09-08T13:10:13.046475Z"
    }
   },
   "outputs": [],
   "source": [
    "company_id_list = \"877364,877365\""
   ]
  },
  {
   "cell_type": "code",
   "execution_count": null,
   "metadata": {},
   "outputs": [],
   "source": []
  },
  {
   "cell_type": "code",
   "execution_count": 19,
   "metadata": {
    "ExecuteTime": {
     "end_time": "2020-09-08T13:14:49.433644Z",
     "start_time": "2020-09-08T13:14:49.224303Z"
    }
   },
   "outputs": [],
   "source": [
    "data = getbatchdata(company_id_list,fields)\n",
    "\n",
    "#import requests\n",
    "\n"
   ]
  },
  {
   "cell_type": "code",
   "execution_count": 20,
   "metadata": {
    "ExecuteTime": {
     "end_time": "2020-09-08T13:14:50.134842Z",
     "start_time": "2020-09-08T13:14:50.032847Z"
    }
   },
   "outputs": [
    {
     "data": {
      "text/html": [
       "<div>\n",
       "<style scoped>\n",
       "    .dataframe tbody tr th:only-of-type {\n",
       "        vertical-align: middle;\n",
       "    }\n",
       "\n",
       "    .dataframe tbody tr th {\n",
       "        vertical-align: top;\n",
       "    }\n",
       "\n",
       "    .dataframe thead th {\n",
       "        text-align: right;\n",
       "    }\n",
       "</style>\n",
       "<table border=\"1\" class=\"dataframe\">\n",
       "  <thead>\n",
       "    <tr style=\"text-align: right;\">\n",
       "      <th></th>\n",
       "      <th>about</th>\n",
       "      <th>achievements</th>\n",
       "      <th>alexa_rank_chart</th>\n",
       "      <th>angellist_url</th>\n",
       "      <th>app_12_months_growth_percentile</th>\n",
       "      <th>app_12_months_growth_relative</th>\n",
       "      <th>app_12_months_growth_unique</th>\n",
       "      <th>app_3_months_growth_percentile</th>\n",
       "      <th>app_3_months_growth_relative</th>\n",
       "      <th>app_3_months_growth_unique</th>\n",
       "      <th>...</th>\n",
       "      <th>total_funding</th>\n",
       "      <th>total_funding_source</th>\n",
       "      <th>traffic</th>\n",
       "      <th>traffic_summary</th>\n",
       "      <th>twitter_favorites_chart</th>\n",
       "      <th>twitter_followers_chart</th>\n",
       "      <th>twitter_tweets_chart</th>\n",
       "      <th>twitter_url</th>\n",
       "      <th>url</th>\n",
       "      <th>website_url</th>\n",
       "    </tr>\n",
       "  </thead>\n",
       "  <tbody>\n",
       "    <tr>\n",
       "      <th>0</th>\n",
       "      <td>alan Keep me posted</td>\n",
       "      <td>[]</td>\n",
       "      <td>[{'date': '2016-12-02', 'value': 599407}, {'da...</td>\n",
       "      <td>None</td>\n",
       "      <td>top half</td>\n",
       "      <td>None</td>\n",
       "      <td>19637.0</td>\n",
       "      <td>top half</td>\n",
       "      <td>None</td>\n",
       "      <td>19285.0</td>\n",
       "      <td>...</td>\n",
       "      <td>124.82</td>\n",
       "      <td>124818181</td>\n",
       "      <td>{'visitors': '98365', 'annual_growth': None, '...</td>\n",
       "      <td>98K</td>\n",
       "      <td>[{'date': '2016-12-03', 'value': 7}, {'date': ...</td>\n",
       "      <td>[{'date': '2016-12-03', 'value': 291}, {'date'...</td>\n",
       "      <td>[{'date': '2016-12-03', 'value': 25}, {'date':...</td>\n",
       "      <td>https://twitter.com/alan_assurance</td>\n",
       "      <td>https://app.dealroom.co/companies/alan</td>\n",
       "      <td>https://alan.com/</td>\n",
       "    </tr>\n",
       "    <tr>\n",
       "      <th>1</th>\n",
       "      <td>None</td>\n",
       "      <td>[]</td>\n",
       "      <td>[{'date': '2016-12-02', 'value': 15914930}, {'...</td>\n",
       "      <td>None</td>\n",
       "      <td>None</td>\n",
       "      <td>None</td>\n",
       "      <td>NaN</td>\n",
       "      <td>None</td>\n",
       "      <td>None</td>\n",
       "      <td>NaN</td>\n",
       "      <td>...</td>\n",
       "      <td>0.18</td>\n",
       "      <td>181818</td>\n",
       "      <td>{'visitors': '0', 'annual_growth': None, 'sour...</td>\n",
       "      <td>None</td>\n",
       "      <td>[]</td>\n",
       "      <td>[]</td>\n",
       "      <td>[]</td>\n",
       "      <td>https://twitter.com/voogyhq</td>\n",
       "      <td>https://app.dealroom.co/companies/voogy</td>\n",
       "      <td>http://voogy.com</td>\n",
       "    </tr>\n",
       "  </tbody>\n",
       "</table>\n",
       "<p>2 rows × 92 columns</p>\n",
       "</div>"
      ],
      "text/plain": [
       "                 about achievements  \\\n",
       "0  alan Keep me posted           []   \n",
       "1                 None           []   \n",
       "\n",
       "                                    alexa_rank_chart angellist_url  \\\n",
       "0  [{'date': '2016-12-02', 'value': 599407}, {'da...          None   \n",
       "1  [{'date': '2016-12-02', 'value': 15914930}, {'...          None   \n",
       "\n",
       "  app_12_months_growth_percentile app_12_months_growth_relative  \\\n",
       "0                        top half                          None   \n",
       "1                            None                          None   \n",
       "\n",
       "   app_12_months_growth_unique app_3_months_growth_percentile  \\\n",
       "0                      19637.0                       top half   \n",
       "1                          NaN                           None   \n",
       "\n",
       "  app_3_months_growth_relative  app_3_months_growth_unique  ... total_funding  \\\n",
       "0                         None                     19285.0  ...        124.82   \n",
       "1                         None                         NaN  ...          0.18   \n",
       "\n",
       "  total_funding_source                                            traffic  \\\n",
       "0            124818181  {'visitors': '98365', 'annual_growth': None, '...   \n",
       "1               181818  {'visitors': '0', 'annual_growth': None, 'sour...   \n",
       "\n",
       "  traffic_summary                            twitter_favorites_chart  \\\n",
       "0             98K  [{'date': '2016-12-03', 'value': 7}, {'date': ...   \n",
       "1            None                                                 []   \n",
       "\n",
       "                             twitter_followers_chart  \\\n",
       "0  [{'date': '2016-12-03', 'value': 291}, {'date'...   \n",
       "1                                                 []   \n",
       "\n",
       "                                twitter_tweets_chart  \\\n",
       "0  [{'date': '2016-12-03', 'value': 25}, {'date':...   \n",
       "1                                                 []   \n",
       "\n",
       "                          twitter_url  \\\n",
       "0  https://twitter.com/alan_assurance   \n",
       "1         https://twitter.com/voogyhq   \n",
       "\n",
       "                                       url        website_url  \n",
       "0   https://app.dealroom.co/companies/alan  https://alan.com/  \n",
       "1  https://app.dealroom.co/companies/voogy   http://voogy.com  \n",
       "\n",
       "[2 rows x 92 columns]"
      ]
     },
     "execution_count": 20,
     "metadata": {},
     "output_type": "execute_result"
    }
   ],
   "source": [
    "data"
   ]
  }
 ],
 "metadata": {
  "kernelspec": {
   "display_name": "Python 3",
   "language": "python",
   "name": "python3"
  },
  "language_info": {
   "codemirror_mode": {
    "name": "ipython",
    "version": 3
   },
   "file_extension": ".py",
   "mimetype": "text/x-python",
   "name": "python",
   "nbconvert_exporter": "python",
   "pygments_lexer": "ipython3",
   "version": "3.7.7"
  },
  "toc": {
   "base_numbering": 1,
   "nav_menu": {},
   "number_sections": true,
   "sideBar": true,
   "skip_h1_title": false,
   "title_cell": "Table of Contents",
   "title_sidebar": "Contents",
   "toc_cell": false,
   "toc_position": {},
   "toc_section_display": true,
   "toc_window_display": false
  },
  "varInspector": {
   "cols": {
    "lenName": 16,
    "lenType": 16,
    "lenVar": 40
   },
   "kernels_config": {
    "python": {
     "delete_cmd_postfix": "",
     "delete_cmd_prefix": "del ",
     "library": "var_list.py",
     "varRefreshCmd": "print(var_dic_list())"
    },
    "r": {
     "delete_cmd_postfix": ") ",
     "delete_cmd_prefix": "rm(",
     "library": "var_list.r",
     "varRefreshCmd": "cat(var_dic_list()) "
    }
   },
   "types_to_exclude": [
    "module",
    "function",
    "builtin_function_or_method",
    "instance",
    "_Feature"
   ],
   "window_display": false
  }
 },
 "nbformat": 4,
 "nbformat_minor": 4
}
